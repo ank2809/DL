{
  "nbformat": 4,
  "nbformat_minor": 0,
  "metadata": {
    "colab": {
      "name": "event2text.ipynb",
      "version": "0.3.2",
      "provenance": []
    },
    "kernelspec": {
      "name": "python3",
      "display_name": "Python 3"
    },
    "accelerator": "GPU"
  },
  "cells": [
    {
      "metadata": {
        "id": "Hp1OFdnR-VLG",
        "colab_type": "code",
        "colab": {}
      },
      "cell_type": "code",
      "source": [
        "import numpy as np \n",
        "import pandas as pd\n",
        "from keras.preprocessing import text, sequence\n",
        "from keras.preprocessing.text import Tokenizer\n",
        "from keras.utils import to_categorical\n",
        "from keras.models import Model, Input, Sequential\n",
        "from keras.layers import LSTM, Embedding, Dense, TimeDistributed, Bidirectional, Conv1D, GRU\n",
        "from sklearn.model_selection import train_test_split, StratifiedKFold\n",
        "from keras.metrics import categorical_accuracy\n",
        "from keras.regularizers import l1_l2, l2\n",
        "from keras import backend as K\n",
        "import tensorflow as tf"
      ],
      "execution_count": 0,
      "outputs": []
    },
    {
      "metadata": {
        "id": "wqzkhV6u-VLL",
        "colab_type": "code",
        "colab": {}
      },
      "cell_type": "code",
      "source": [
        "import csv\n",
        "import re\n",
        "import json\n",
        "import numpy as np\n",
        "\n",
        "years = list(range(2017, 2018))\n",
        "\n",
        "team_map = {'ATL' : 'Atlanta Hawks', 'BOS': 'Boston Celtics', 'BRK': 'Brooklyn Nets', \n",
        "\t\t\t'CHO': 'Charlotte Hornets', 'CHI': 'Chicago Bulls', 'CLE': 'Cleveland Cavaliers',\n",
        "\t\t\t'DET': 'Detroit Pistons', 'IND': 'Indiana Pacers', 'MIA': 'Miami Heat',\n",
        "\t\t\t'MIL': 'Milwaukee Bucks', 'NYK': 'New York Knicks', 'ORL': 'Orlando Magic',\n",
        "\t\t\t'PHI': 'Philadelphia 76ers', 'TOR': 'Toronto Raptors', 'WAS': 'Washington Wizards',\n",
        "\t\t\t'DAL': 'Dallas Mavericks', 'DEN': 'Denver Nuggets', 'GSW': 'Golden State Warriors',\n",
        "\t\t\t'HOU': 'Houston Rockets', 'LAC': 'Los Angeles Clippers', 'LAL': 'Los Angeles Lakers',\n",
        "\t\t\t'MEM': 'Memphis Grizzlies', 'MIN': 'Minnesota Timberwolves', 'NOP': 'New Orleans Pelicans',\n",
        "\t\t\t'OKC': 'Oklahoma City Thunder', 'PHO': 'Phoenix Suns', 'POR': 'Portland Trail Blazers',\n",
        "\t\t\t'SAC': 'Sacramento Kings', 'SAS': 'San Antonio Spurs', 'UTA': 'Utah Jazz',\n",
        "\t\t\t'NJN': 'New Jersey Nets', 'SEA': 'Seattle SuperSonics', 'CHA': 'Charlotte Bobcats'}\n",
        "\n",
        "stat_encoding = {'fg': 1, 'fg_pct': 2, 'fg3': 3, 'fg3_pct': 4, 'ft': 5, 'ft_pct': 6, 'pts': 7, 'orb': 8,\n",
        "                'trb': 9, 'ast': 10, 'stl': 11, 'blk': 12, 'tov': 13}"
      ],
      "execution_count": 0,
      "outputs": []
    },
    {
      "metadata": {
        "id": "NZSg-i89-VLO",
        "colab_type": "code",
        "colab": {}
      },
      "cell_type": "code",
      "source": [
        "max_count = 10\n",
        "def get_tuples():\n",
        "    game_data = []\n",
        "    for year in years:\n",
        "        print(year)\n",
        "        filename = '{}_labeled_events_sentences.csv'.format(year)\n",
        "        with open(filename) as inFile:\n",
        "            csv_reader = csv.reader(inFile, delimiter=',')\n",
        "            next(csv_reader)\n",
        "            for line in csv_reader:\n",
        "                event = line[2]\n",
        "                values = re.findall(r\"'(.*?)'\", event)\n",
        "                game_data.append(values)\n",
        "\n",
        "    return game_data\n",
        "\n",
        "def one_hot_int(name_num, stat_num, name_enc, stat_enc):\n",
        "    one_hot = np.zeros(len(name_enc) + len(stat_enc)+1)\n",
        "    one_hot[name_num] = 1\n",
        "    one_hot[(len(name_enc) - 1) + stat_num] = 1\n",
        "  \n",
        "    return one_hot\n",
        "\n",
        "def get_encodings(events, vocab_size):\n",
        "    with open('players_2017.json') as df:\n",
        "        data = json.load(df)\n",
        "\n",
        "    encodings = np.zeros((len(events), max_count  * (len(data) + len(stat_encoding)+ 1)))\n",
        "    print(encodings.shape)\n",
        "    for j in range(len(events)):\n",
        "        event = events[j]\n",
        "        end_point = min(len(event), max_count*3)\n",
        "        for i in range(0,end_point,3):\n",
        "            name = event[i]\n",
        "            stat = event[i+1]\n",
        "            if name in data.keys() and stat in stat_encoding.keys():\n",
        "                value = float(event[i+2])\n",
        "                name_encode = data[name]\n",
        "                stat_encode = stat_encoding[stat]\n",
        "\n",
        "                one_hot = one_hot_int(name_encode, stat_encode, data, stat_encoding)\n",
        "                one_hot[len(one_hot) - 1] = value\n",
        "               \n",
        "                encodings[j][i//3*vocab_size: i//3*vocab_size + len(one_hot)] = one_hot\n",
        "\n",
        "\n",
        "    return encodings, max_count"
      ],
      "execution_count": 0,
      "outputs": []
    },
    {
      "metadata": {
        "id": "Z-mq4a0B-VLR",
        "colab_type": "code",
        "outputId": "38eace0b-8dfe-48fa-fb5c-4e840e52bf37",
        "colab": {
          "base_uri": "https://localhost:8080/",
          "height": 85
        }
      },
      "cell_type": "code",
      "source": [
        "num_articles = 1000\n",
        "with open('players_2017.json') as df:\n",
        "    data = json.load(df)\n",
        "\n",
        "vocab_size = len(data) + len(stat_encoding) + 1\n",
        "\n",
        "events = get_tuples()\n",
        "encodings, max_count = get_encodings(events[:num_articles], vocab_size)\n",
        "print(vocab_size)\n",
        "print(max_count)\n"
      ],
      "execution_count": 6,
      "outputs": [
        {
          "output_type": "stream",
          "text": [
            "2017\n",
            "(1000, 5770)\n",
            "577\n",
            "10\n"
          ],
          "name": "stdout"
        }
      ]
    },
    {
      "metadata": {
        "id": "HolmJ2Sv-VLX",
        "colab_type": "code",
        "colab": {}
      },
      "cell_type": "code",
      "source": [
        "encodings[:,576]"
      ],
      "execution_count": 0,
      "outputs": []
    },
    {
      "metadata": {
        "id": "CTLMB2uq-VLc",
        "colab_type": "code",
        "colab": {}
      },
      "cell_type": "code",
      "source": [
        "def str_to_tup(string):\n",
        "\tgame_data = []\n",
        "\ttokens = string.split(')')[:-1]\n",
        "\tfor token in tokens:\n",
        "\t\tvalues = re.findall(r\"'(.*?)'\", token)\n",
        "\t\tgame_data.append(values)\n",
        "\n",
        "\treturn game_data\n",
        "\n",
        "train_event_sentences = pd.read_csv('2017_labeled_events_sentences.csv')\n",
        "train_articles = []\n",
        "train_events = []\n",
        "train_event_sentences_sample = train_event_sentences[:num_articles]\n",
        "for index, row in train_event_sentences_sample.iterrows():\n",
        "    train_events.append(str_to_tup(row['event']))\n",
        "    train_articles.append(row['sentence'])\n",
        "\n",
        "    "
      ],
      "execution_count": 0,
      "outputs": []
    },
    {
      "metadata": {
        "id": "X0n4BryV-VLf",
        "colab_type": "code",
        "outputId": "dfac191c-1436-4e60-92b4-bfa221b7b7dd",
        "colab": {
          "base_uri": "https://localhost:8080/",
          "height": 54
        }
      },
      "cell_type": "code",
      "source": [
        "import re\n",
        "article_size = 100\n",
        "tokenized_articles = [] \n",
        "for article in train_articles:\n",
        "    article = article.replace(',', ' ,').replace('.', ' . ')\n",
        "    tokens = article.split(' ')\n",
        "    i = 0\n",
        "    while i<len(tokens):\n",
        "        if len(tokens[i]) == 0:\n",
        "            del tokens[i]\n",
        "        else:\n",
        "            i += 1\n",
        "    end_point = min(article_size - 1, len(tokens))\n",
        "    curr_article = []\n",
        "    for i in range(end_point):\n",
        "        curr_article.append(tokens[i])\n",
        "    curr_article.append('_STOP_')\n",
        "    for i in range(end_point + 1, article_size):\n",
        "        curr_article.append('_PAD_')\n",
        "    tokenized_articles.append(curr_article)\n",
        "print(tokenized_articles[5])"
      ],
      "execution_count": 8,
      "outputs": [
        {
          "output_type": "stream",
          "text": [
            "['Fournier', 'made', 'three', 'clutch', 'shots', 'to', 'slow', 'the', 'hard', 'charging', 'Miami', 'Heat', ',', 'and', 'the', 'Magic', 'held', 'on', 'for', 'a', '116', '109', 'win', 'on', 'Wednesday', 'night', 'its', 'first', 'season', 'opening', 'victory', 'since', '2012', '.', 'Kelly', 'Olynyk', 'had', '10', 'points', 'in', 'his', 'first', 'game', 'with', 'the', 'Heat', 'and', 'Waiters', 'had', '15', '.', 'But', 'when', 'Miami', 'pulled', 'within', 'two', 'points', 'with', '2:39', 'remaining', ',', 'Fournier', 'went', 'to', 'work', ',', 'scoring', 'seven', 'of', 'his', 'team', 'high', '23', 'points', 'in', 'the', 'final', '2:27', '.', 'James', 'Johnson', ',', 'Dion', 'Waiters', 'and', 'Dragic', 'had', 'been', 'pushing', 'Miami', 'hard', 'while', 'Orlando', 'missed', 'shots', 'during', 'the', '11', '_STOP_']\n"
          ],
          "name": "stdout"
        }
      ]
    },
    {
      "metadata": {
        "id": "36jBiDN5-VLj",
        "colab_type": "code",
        "outputId": "14b3754e-1186-40f9-fa61-cfa4b0ee1dbf",
        "colab": {
          "base_uri": "https://localhost:8080/",
          "height": 34
        }
      },
      "cell_type": "code",
      "source": [
        "tokenizer_decoder = Tokenizer(char_level = False, filters= '', num_words=5000, oov_token='_RARE_')\n",
        "tokenizer_decoder.fit_on_texts(tokenized_articles)\n",
        "num_words = len(tokenizer_decoder.word_index) + 1\n",
        "y = tokenizer_decoder.texts_to_sequences(tokenized_articles)\n",
        "y_final = np.zeros((len(y), article_size, num_words))\n",
        "print(y_final.shape)\n",
        "for i in range(len(y)):\n",
        "\n",
        "    for j in range(len(y[i])):\n",
        "        \n",
        "        y_final[i][j][y[i][j]] = 1.0\n"
      ],
      "execution_count": 9,
      "outputs": [
        {
          "output_type": "stream",
          "text": [
            "(1000, 100, 4132)\n"
          ],
          "name": "stdout"
        }
      ]
    },
    {
      "metadata": {
        "id": "i6p1R2Rc-VLo",
        "colab_type": "code",
        "outputId": "f47924e5-e59d-4c64-8460-0c39f396fc8b",
        "colab": {
          "base_uri": "https://localhost:8080/",
          "height": 34
        }
      },
      "cell_type": "code",
      "source": [
        "X = np.asarray(encodings)\n",
        "X.shape"
      ],
      "execution_count": 0,
      "outputs": [
        {
          "output_type": "execute_result",
          "data": {
            "text/plain": [
              "(1000, 5770)"
            ]
          },
          "metadata": {
            "tags": []
          },
          "execution_count": 10
        }
      ]
    },
    {
      "metadata": {
        "id": "wWEg6ba5-VLs",
        "colab_type": "code",
        "outputId": "151f0c0c-4bbf-412a-ed57-1aeacce059e0",
        "colab": {
          "base_uri": "https://localhost:8080/",
          "height": 34
        }
      },
      "cell_type": "code",
      "source": [
        "X = np.asarray(encodings)\n",
        "X_final = np.zeros((num_articles, article_size, vocab_size * max_count))\n",
        "print(X_final.shape)\n",
        "for i in range(num_articles):\n",
        "    for j in range(article_size):\n",
        "        X_final[i][j] = X[i]\n"
      ],
      "execution_count": 10,
      "outputs": [
        {
          "output_type": "stream",
          "text": [
            "(1000, 100, 5770)\n"
          ],
          "name": "stdout"
        }
      ]
    },
    {
      "metadata": {
        "id": "oeOF0zXL-VLx",
        "colab_type": "code",
        "outputId": "52d892b9-debd-4311-d342-48efa376c5c9",
        "colab": {}
      },
      "cell_type": "code",
      "source": [
        "X[0] == X_final[0][5]"
      ],
      "execution_count": 0,
      "outputs": [
        {
          "output_type": "execute_result",
          "data": {
            "text/plain": [
              "array([ True,  True,  True, ...,  True,  True,  True])"
            ]
          },
          "metadata": {
            "tags": []
          },
          "execution_count": 72
        }
      ]
    },
    {
      "metadata": {
        "id": "YpRlvbLn-VL1",
        "colab_type": "code",
        "outputId": "4e89d42a-e94c-4704-bbe5-3bbf403d02bb",
        "colab": {
          "base_uri": "https://localhost:8080/",
          "height": 238
        }
      },
      "cell_type": "code",
      "source": [
        "model = Sequential()\n",
        "model.add(LSTM(500, input_shape=(100, 5770), return_sequences=True))\n",
        "model.add(LSTM(500, return_sequences=True))\n",
        "model.add(Dense(4132, activation=\"softmax\"))\n",
        "# Compile & run training\n",
        "# Note that `decoder_target_data` needs to be one-hot encoded,\n",
        "# rather than sequences of integers like `decoder_input_data`!\n",
        "model.summary()\n",
        "model.compile(optimizer='rmsprop', loss='categorical_crossentropy', metrics=['accuracy'])"
      ],
      "execution_count": 11,
      "outputs": [
        {
          "output_type": "stream",
          "text": [
            "_________________________________________________________________\n",
            "Layer (type)                 Output Shape              Param #   \n",
            "=================================================================\n",
            "lstm_1 (LSTM)                (None, 100, 500)          12542000  \n",
            "_________________________________________________________________\n",
            "lstm_2 (LSTM)                (None, 100, 500)          2002000   \n",
            "_________________________________________________________________\n",
            "dense_1 (Dense)              (None, 100, 4132)         2070132   \n",
            "=================================================================\n",
            "Total params: 16,614,132\n",
            "Trainable params: 16,614,132\n",
            "Non-trainable params: 0\n",
            "_________________________________________________________________\n"
          ],
          "name": "stdout"
        }
      ]
    },
    {
      "metadata": {
        "id": "-KbQqBmR-VL5",
        "colab_type": "code",
        "outputId": "09f197e9-bdb4-4e52-81d3-e85d2aaa0fcd",
        "colab": {
          "base_uri": "https://localhost:8080/",
          "height": 411
        }
      },
      "cell_type": "code",
      "source": [
        "model.fit(X_final, y_final,\n",
        "          batch_size=50,\n",
        "          epochs=10,\n",
        "          validation_split=0.1)"
      ],
      "execution_count": 13,
      "outputs": [
        {
          "output_type": "stream",
          "text": [
            "Train on 900 samples, validate on 100 samples\n",
            "Epoch 1/10\n",
            "900/900 [==============================] - 27s 30ms/step - loss: 6.3035 - acc: 0.0494 - val_loss: 6.0834 - val_acc: 0.0540\n",
            "Epoch 2/10\n",
            "900/900 [==============================] - 22s 25ms/step - loss: 5.9934 - acc: 0.0507 - val_loss: 6.0865 - val_acc: 0.0540\n",
            "Epoch 3/10\n",
            "900/900 [==============================] - 22s 25ms/step - loss: 5.9860 - acc: 0.0520 - val_loss: 6.0956 - val_acc: 0.0540\n",
            "Epoch 4/10\n",
            "900/900 [==============================] - 22s 25ms/step - loss: 5.9667 - acc: 0.0538 - val_loss: 6.1111 - val_acc: 0.0550\n",
            "Epoch 5/10\n",
            "900/900 [==============================] - 22s 25ms/step - loss: 5.9480 - acc: 0.0557 - val_loss: 6.1074 - val_acc: 0.0577\n",
            "Epoch 6/10\n",
            "900/900 [==============================] - 22s 25ms/step - loss: 5.9236 - acc: 0.0560 - val_loss: 6.1224 - val_acc: 0.0554\n",
            "Epoch 7/10\n",
            "900/900 [==============================] - 22s 25ms/step - loss: 5.8974 - acc: 0.0561 - val_loss: 6.1289 - val_acc: 0.0577\n",
            "Epoch 8/10\n",
            "900/900 [==============================] - 22s 25ms/step - loss: 5.8711 - acc: 0.0553 - val_loss: 6.1377 - val_acc: 0.0582\n",
            "Epoch 9/10\n",
            "900/900 [==============================] - 22s 25ms/step - loss: 5.8377 - acc: 0.0568 - val_loss: 6.1612 - val_acc: 0.0475\n",
            "Epoch 10/10\n",
            "900/900 [==============================] - 22s 25ms/step - loss: 5.8041 - acc: 0.0556 - val_loss: 6.1752 - val_acc: 0.0585\n"
          ],
          "name": "stdout"
        },
        {
          "output_type": "execute_result",
          "data": {
            "text/plain": [
              "<keras.callbacks.History at 0x7f9b97956470>"
            ]
          },
          "metadata": {
            "tags": []
          },
          "execution_count": 13
        }
      ]
    },
    {
      "metadata": {
        "id": "a4j3HPoF-VMD",
        "colab_type": "code",
        "outputId": "c36383c8-b61c-4ab4-a883-c7f050c138c3",
        "colab": {
          "base_uri": "https://localhost:8080/",
          "height": 54
        }
      },
      "cell_type": "code",
      "source": [
        "prediction = model.predict(X_final[1].reshape((1, 100, 5770)))\n",
        "pred_words = [np.argmax(i) for i in prediction[0]]\n",
        "\n",
        "index_word = {v: k for k, v in tokenizer_decoder.word_index.items()} \n",
        "article_pred = [index_word[i] for i in pred_words]\n",
        "print(article_pred)"
      ],
      "execution_count": 22,
      "outputs": [
        {
          "output_type": "stream",
          "text": [
            "['the', 'had', 'scored', 'points', 'points', 'points', 'points', 'points', 'and', 'and', 'and', 'the', 'the', 'the', 'the', 'the', 'the', 'the', 'the', 'the', 'the', 'the', 'the', 'the', 'the', 'the', 'the', 'the', 'the', 'the', 'the', 'the', 'the', 'the', 'the', 'the', 'the', 'the', 'the', 'the', 'the', 'the', 'the', 'the', 'the', 'the', 'the', 'the', 'the', 'the', 'the', 'the', 'the', 'the', 'the', 'the', 'the', 'the', 'the', 'the', 'the', 'the', 'the', 'the', 'the', 'the', 'the', 'the', 'the', 'the', 'the', 'the', 'the', 'the', 'the', 'the', 'the', 'the', 'the', 'the', 'the', 'the', 'the', 'the', 'the', 'the', 'the', 'the', 'the', 'the', 'the', 'the', 'the', 'the', 'the', 'the', 'the', 'the', 'the', 'the']\n"
          ],
          "name": "stdout"
        }
      ]
    },
    {
      "metadata": {
        "id": "rAIo6P6cH4tT",
        "colab_type": "code",
        "colab": {}
      },
      "cell_type": "code",
      "source": [
        ""
      ],
      "execution_count": 0,
      "outputs": []
    },
    {
      "metadata": {
        "id": "-iUuTBO5JpWn",
        "colab_type": "code",
        "colab": {}
      },
      "cell_type": "code",
      "source": [
        ""
      ],
      "execution_count": 0,
      "outputs": []
    }
  ]
}