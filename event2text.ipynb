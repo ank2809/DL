{
 "cells": [
  {
   "cell_type": "code",
   "execution_count": 1,
   "metadata": {
    "colab": {},
    "colab_type": "code",
    "id": "Hp1OFdnR-VLG"
   },
   "outputs": [
    {
     "name": "stderr",
     "output_type": "stream",
     "text": [
      "Using TensorFlow backend.\n"
     ]
    }
   ],
   "source": [
    "import numpy as np \n",
    "import pandas as pd\n",
    "from keras.preprocessing import text, sequence\n",
    "from keras.preprocessing.text import Tokenizer\n",
    "from keras.utils import to_categorical\n",
    "from keras.models import Model, Input, Sequential\n",
    "from keras.layers import LSTM, Embedding, Dense, TimeDistributed, Bidirectional, Conv1D, GRU\n",
    "from sklearn.model_selection import train_test_split, StratifiedKFold\n",
    "from keras.metrics import categorical_accuracy\n",
    "from keras.regularizers import l1_l2, l2\n",
    "from keras import backend as K\n",
    "import tensorflow as tf"
   ]
  },
  {
   "cell_type": "code",
   "execution_count": 2,
   "metadata": {
    "colab": {},
    "colab_type": "code",
    "id": "wqzkhV6u-VLL"
   },
   "outputs": [],
   "source": [
    "import csv\n",
    "import re\n",
    "import json\n",
    "import numpy as np\n",
    "\n",
    "years = list(range(2010, 2018))\n",
    "\n",
    "team_map = {'ATL' : 'Atlanta Hawks', 'BOS': 'Boston Celtics', 'BRK': 'Brooklyn Nets', \n",
    "\t\t\t'CHO': 'Charlotte Hornets', 'CHI': 'Chicago Bulls', 'CLE': 'Cleveland Cavaliers',\n",
    "\t\t\t'DET': 'Detroit Pistons', 'IND': 'Indiana Pacers', 'MIA': 'Miami Heat',\n",
    "\t\t\t'MIL': 'Milwaukee Bucks', 'NYK': 'New York Knicks', 'ORL': 'Orlando Magic',\n",
    "\t\t\t'PHI': 'Philadelphia 76ers', 'TOR': 'Toronto Raptors', 'WAS': 'Washington Wizards',\n",
    "\t\t\t'DAL': 'Dallas Mavericks', 'DEN': 'Denver Nuggets', 'GSW': 'Golden State Warriors',\n",
    "\t\t\t'HOU': 'Houston Rockets', 'LAC': 'Los Angeles Clippers', 'LAL': 'Los Angeles Lakers',\n",
    "\t\t\t'MEM': 'Memphis Grizzlies', 'MIN': 'Minnesota Timberwolves', 'NOP': 'New Orleans Pelicans',\n",
    "\t\t\t'OKC': 'Oklahoma City Thunder', 'PHO': 'Phoenix Suns', 'POR': 'Portland Trail Blazers',\n",
    "\t\t\t'SAC': 'Sacramento Kings', 'SAS': 'San Antonio Spurs', 'UTA': 'Utah Jazz',\n",
    "\t\t\t'NJN': 'New Jersey Nets', 'SEA': 'Seattle SuperSonics', 'CHA': 'Charlotte Bobcats'}\n",
    "\n",
    "stat_encoding = {'fg': 1, 'fg_pct': 2, 'fg3': 3, 'fg3_pct': 4, 'ft': 5, 'ft_pct': 6, 'pts': 7, 'orb': 8,\n",
    "                'trb': 9, 'ast': 10, 'stl': 11, 'blk': 12, 'tov': 13}"
   ]
  },
  {
   "cell_type": "code",
   "execution_count": 3,
   "metadata": {
    "colab": {},
    "colab_type": "code",
    "id": "NZSg-i89-VLO"
   },
   "outputs": [],
   "source": [
    "max_count = 10\n",
    "def get_tuples():\n",
    "    game_data = []\n",
    "    articles = []\n",
    "    for year in years:\n",
    "        print(year)\n",
    "        filename = 'data/{}/{}_tuple_sentences.csv'.format(year, year)\n",
    "        with open(filename) as inFile:\n",
    "            csv_reader = csv.reader(inFile, delimiter=',')\n",
    "            next(csv_reader)\n",
    "            for line in csv_reader:\n",
    "                event = line[0]\n",
    "                values = re.findall(r\"'(.*?)'\", event)\n",
    "                sentence_split = line[1].split(\" \")\n",
    "                if len(sentence_split) < 20:\n",
    "                    game_data.append(values)\n",
    "                    articles.append(line[1])\n",
    "\n",
    "    print(len(game_data))\n",
    "    return game_data, articles\n",
    "\n",
    "def one_hot_int(name_num, stat_num, name_enc, stat_enc):\n",
    "    one_hot = np.zeros(len(name_enc) + len(stat_enc)+1)\n",
    "    one_hot[name_num] = 1\n",
    "    one_hot[(len(name_enc) - 1) + stat_num] = 1\n",
    "  \n",
    "    return one_hot\n",
    "\n",
    "def get_encodings(events, vocab_size):\n",
    "\n",
    "    encodings = np.zeros((len(events),len(stat_encoding)))\n",
    "    values = []\n",
    "    print(encodings.shape)\n",
    "    for i in range(len(events)):\n",
    "        event = events[i]        \n",
    "        stat = event[1]\n",
    "        if stat in stat_encoding.keys():\n",
    "            stat_encode = stat_encoding[stat]\n",
    "            values.append(stat_encode - 1)\n",
    "            encodings[i][stat_encode - 1] = 1\n",
    "\n",
    "\n",
    "    return encodings, values"
   ]
  },
  {
   "cell_type": "code",
   "execution_count": 4,
   "metadata": {
    "colab": {
     "base_uri": "https://localhost:8080/",
     "height": 85
    },
    "colab_type": "code",
    "id": "Z-mq4a0B-VLR",
    "outputId": "38eace0b-8dfe-48fa-fb5c-4e840e52bf37"
   },
   "outputs": [
    {
     "name": "stdout",
     "output_type": "stream",
     "text": [
      "2010\n",
      "2011\n",
      "2012\n",
      "2013\n",
      "2014\n",
      "2015\n",
      "2016\n",
      "2017\n",
      "55104\n",
      "55104 55104\n",
      "(55104, 13)\n"
     ]
    }
   ],
   "source": [
    "vocab_size = len(stat_encoding)\n",
    "\n",
    "events, train_articles = get_tuples()\n",
    "print(len(events), len(train_articles))\n",
    "encodings, values = get_encodings(events, vocab_size)\n"
   ]
  },
  {
   "cell_type": "code",
   "execution_count": 5,
   "metadata": {
    "colab": {},
    "colab_type": "code",
    "id": "HolmJ2Sv-VLX"
   },
   "outputs": [
    {
     "name": "stdout",
     "output_type": "stream",
     "text": [
      "[0. 0. 0. 0. 0. 0. 1. 0. 0. 0. 0. 0. 0.] ['Tatum,Jayson', 'pts', '14']\n"
     ]
    }
   ],
   "source": [
    "print(encodings[0], events[0])"
   ]
  },
  {
   "cell_type": "code",
   "execution_count": 6,
   "metadata": {
    "colab": {},
    "colab_type": "code",
    "id": "CTLMB2uq-VLc"
   },
   "outputs": [],
   "source": [
    "def str_to_tup(string):\n",
    "\tgame_data = []\n",
    "\ttokens = string.split(')')[:-1]\n",
    "\tfor token in tokens:\n",
    "\t\tvalues = re.findall(r\"'(.*?)'\", token)\n",
    "\t\tgame_data.append(values)\n",
    "\n",
    "\treturn game_data\n",
    "\n",
    "# train_articles = []\n",
    "\n",
    "# for year in years:\n",
    "#     train_event_sentences = pd.read_csv('data/{}/{}_tuple_sentences.csv'.format(year, year))\n",
    "#     for index, row in train_event_sentences.iterrows():\n",
    "#         train_articles.append(row['sentence'])"
   ]
  },
  {
   "cell_type": "code",
   "execution_count": 7,
   "metadata": {},
   "outputs": [
    {
     "name": "stdout",
     "output_type": "stream",
     "text": [
      "fg: 5160\n",
      "fg_pct: 0\n",
      "fg3: 7320\n",
      "fg3_pct: 0\n",
      "ft: 4840\n",
      "ft_pct: 0\n",
      "pts: 27264\n",
      "orb: 672\n",
      "trb: 6808\n",
      "ast: 2344\n",
      "stl: 136\n",
      "blk: 72\n",
      "tov: 488\n"
     ]
    }
   ],
   "source": [
    "counts = dict()\n",
    "for stat in stat_encoding.keys():\n",
    "    counts[stat_encoding[stat] - 1] = 0\n",
    "for value in values:\n",
    "    counts[value] += 1\n",
    "ordered = []\n",
    "for key in stat_encoding.keys():\n",
    "    print(key + ': ' + str(counts[stat_encoding[key] - 1]))\n",
    "    ordered.append(counts[stat_encoding[key] - 1])\n",
    "ordered.sort()    "
   ]
  },
  {
   "cell_type": "code",
   "execution_count": null,
   "metadata": {},
   "outputs": [],
   "source": []
  },
  {
   "cell_type": "code",
   "execution_count": 8,
   "metadata": {},
   "outputs": [],
   "source": [
    "normalize = ordered[8]\n",
    "i = 0\n",
    "while i < len(values):\n",
    "    \n",
    "    if counts[values[i]] > normalize:\n",
    "        encodings = np.delete(encodings, i, 0)\n",
    "        del train_articles[i]\n",
    "        counts[values[i]] -= 1\n",
    "        del values[i]\n",
    "    else:\n",
    "        i += 1"
   ]
  },
  {
   "cell_type": "code",
   "execution_count": 9,
   "metadata": {
    "colab": {
     "base_uri": "https://localhost:8080/",
     "height": 54
    },
    "colab_type": "code",
    "id": "X0n4BryV-VLf",
    "outputId": "dfac191c-1436-4e60-92b4-bfa221b7b7dd"
   },
   "outputs": [],
   "source": [
    "import re\n",
    "article_size = 25\n",
    "tokenized_articles = []\n",
    "count = 0\n",
    "for article in train_articles:\n",
    "    article = article.replace(',', ' ,').replace('.', ' . ')\n",
    "    tokens = article.split(' ')\n",
    "    i = 0\n",
    "    while i<len(tokens):\n",
    "        if len(tokens[i]) == 0:\n",
    "            del tokens[i]\n",
    "        else:\n",
    "            i += 1\n",
    "    end_point = min(article_size - 1, len(tokens))\n",
    "    curr_article = []\n",
    "    for i in range(end_point):\n",
    "        if i < article_size:\n",
    "            count += 1\n",
    "            curr_article.append(tokens[i])\n",
    "    curr_article.append('_STOP_')\n",
    "    count += 2\n",
    "    for i in range(end_point + 1, article_size):\n",
    "        curr_article.append('_PAD_')\n",
    "    tokenized_articles.append(curr_article)"
   ]
  },
  {
   "cell_type": "code",
   "execution_count": 10,
   "metadata": {},
   "outputs": [
    {
     "name": "stdout",
     "output_type": "stream",
     "text": [
      "27912\n",
      "['TIP' 'INS' '76ers:' 'Philadelphia' 'committed' 'a' 'season' 'worst' '20'\n",
      " 'turnovers' '.' '_STOP_' '_PAD_' '_PAD_' '_PAD_' '_PAD_' '_PAD_' '_PAD_'\n",
      " '_PAD_' '_PAD_' '_PAD_' '_PAD_' '_PAD_' '_PAD_' '_PAD_']\n",
      "(27912, 13)\n"
     ]
    }
   ],
   "source": [
    "print(len(tokenized_articles))\n",
    "article_array = np.asarray(tokenized_articles)\n",
    "print(article_array[20])\n",
    "print(encodings.shape)"
   ]
  },
  {
   "cell_type": "code",
   "execution_count": 11,
   "metadata": {
    "colab": {
     "base_uri": "https://localhost:8080/",
     "height": 34
    },
    "colab_type": "code",
    "id": "36jBiDN5-VLj",
    "outputId": "14b3754e-1186-40f9-fa61-cfa4b0ee1dbf"
   },
   "outputs": [
    {
     "name": "stdout",
     "output_type": "stream",
     "text": [
      "502\n",
      "(27912, 25)\n"
     ]
    }
   ],
   "source": [
    "vocab_size = 500\n",
    "tokenizer_decoder = Tokenizer(char_level = False, filters= '', num_words=vocab_size, oov_token='_RARE_')\n",
    "tokenizer_decoder.fit_on_texts(tokenized_articles)\n",
    "#num_words = len(tokenizer_decoder.word_index) + 1\n",
    "tokenizer_decoder.word_index = {e:i for e,i in tokenizer_decoder.word_index.items() if i <= vocab_size}\n",
    "tokenizer_decoder.word_index[tokenizer_decoder.oov_token] = vocab_size + 1\n",
    "y = tokenizer_decoder.texts_to_sequences(tokenized_articles)\n",
    "num_words = len(tokenizer_decoder.word_index) + 2\n",
    "print(num_words)\n",
    "print(np.asarray(y).shape)"
   ]
  },
  {
   "cell_type": "code",
   "execution_count": null,
   "metadata": {},
   "outputs": [],
   "source": []
  },
  {
   "cell_type": "code",
   "execution_count": 12,
   "metadata": {},
   "outputs": [
    {
     "name": "stdout",
     "output_type": "stream",
     "text": [
      "(27912, 25, 502)\n",
      "(27912, 25)\n",
      "27912\n",
      "25\n",
      "(27912, 25, 502)\n"
     ]
    }
   ],
   "source": [
    "y_final = np.zeros((len(y), article_size, num_words))\n",
    "print(y_final.shape)\n",
    "y = np.asarray(y)\n",
    "print(y.shape)\n",
    "print(len(y))\n",
    "print(len(y[0]))\n",
    "for i in range(len(y)):\n",
    "\n",
    "    for j in range(len(y[i])):\n",
    "        \n",
    "        y_final[i][j][y[i][j]] = 1.0\n",
    "\n",
    "print(y_final.shape)"
   ]
  },
  {
   "cell_type": "code",
   "execution_count": 13,
   "metadata": {
    "colab": {
     "base_uri": "https://localhost:8080/",
     "height": 238
    },
    "colab_type": "code",
    "id": "YpRlvbLn-VL1",
    "outputId": "4e89d42a-e94c-4704-bbe5-3bbf403d02bb"
   },
   "outputs": [
    {
     "name": "stdout",
     "output_type": "stream",
     "text": [
      "WARNING:tensorflow:From /Users/Eshan/miniconda3/lib/python3.6/site-packages/tensorflow/python/framework/op_def_library.py:263: colocate_with (from tensorflow.python.framework.ops) is deprecated and will be removed in a future version.\n",
      "Instructions for updating:\n",
      "Colocations handled automatically by placer.\n",
      "_________________________________________________________________\n",
      "Layer (type)                 Output Shape              Param #   \n",
      "=================================================================\n",
      "gru_1 (GRU)                  (None, 25, 100)           34200     \n",
      "_________________________________________________________________\n",
      "gru_2 (GRU)                  (None, 25, 100)           60300     \n",
      "_________________________________________________________________\n",
      "time_distributed_1 (TimeDist (None, 25, 502)           50702     \n",
      "=================================================================\n",
      "Total params: 145,202\n",
      "Trainable params: 145,202\n",
      "Non-trainable params: 0\n",
      "_________________________________________________________________\n"
     ]
    }
   ],
   "source": [
    "model = Sequential()\n",
    "\n",
    "model.add(GRU(100, input_shape=(25,13), return_sequences=True))\n",
    "model.add(GRU(100, return_sequences=True))\n",
    "model.add(TimeDistributed(Dense(num_words, activation='softmax')))\n",
    "\n",
    "model.summary()\n",
    "model.compile(optimizer='rmsprop', loss='categorical_crossentropy', metrics=['accuracy'])"
   ]
  },
  {
   "cell_type": "code",
   "execution_count": 14,
   "metadata": {
    "colab": {
     "base_uri": "https://localhost:8080/",
     "height": 411
    },
    "colab_type": "code",
    "id": "-KbQqBmR-VL5",
    "outputId": "09f197e9-bdb4-4e52-81d3-e85d2aaa0fcd"
   },
   "outputs": [
    {
     "name": "stdout",
     "output_type": "stream",
     "text": [
      "WARNING:tensorflow:From /Users/Eshan/miniconda3/lib/python3.6/site-packages/tensorflow/python/ops/math_ops.py:2862: to_int32 (from tensorflow.python.ops.math_ops) is deprecated and will be removed in a future version.\n",
      "Instructions for updating:\n",
      "Use tf.cast instead.\n",
      "Train on 25120 samples, validate on 2792 samples\n",
      "Epoch 1/5\n",
      "25120/25120 [==============================] - 46s 2ms/step - loss: 3.4254 - acc: 0.3663 - val_loss: 3.0394 - val_acc: 0.4057\n",
      "Epoch 2/5\n",
      "25120/25120 [==============================] - 40s 2ms/step - loss: 3.0965 - acc: 0.3939 - val_loss: 2.8761 - val_acc: 0.4254\n",
      "Epoch 3/5\n",
      "25120/25120 [==============================] - 40s 2ms/step - loss: 3.0164 - acc: 0.3997 - val_loss: 2.8471 - val_acc: 0.4299\n",
      "Epoch 4/5\n",
      "25120/25120 [==============================] - 40s 2ms/step - loss: 2.9761 - acc: 0.4033 - val_loss: 2.8162 - val_acc: 0.4295\n",
      "Epoch 5/5\n",
      "25120/25120 [==============================] - 40s 2ms/step - loss: 2.9505 - acc: 0.4046 - val_loss: 2.8089 - val_acc: 0.4320\n"
     ]
    },
    {
     "data": {
      "text/plain": [
       "<keras.callbacks.History at 0x12b7bd3c8>"
      ]
     },
     "execution_count": 14,
     "metadata": {},
     "output_type": "execute_result"
    }
   ],
   "source": [
    "train = encodings.reshape((encodings.shape[0], 13, 1))\n",
    "train = np.asarray([[i] * 25 for i in encodings])\n",
    "\n",
    "model.fit(train, y_final,\n",
    "          batch_size=128,\n",
    "          epochs=5,\n",
    "          validation_split=0.1)"
   ]
  },
  {
   "cell_type": "code",
   "execution_count": 22,
   "metadata": {
    "colab": {
     "base_uri": "https://localhost:8080/",
     "height": 54
    },
    "colab_type": "code",
    "id": "a4j3HPoF-VMD",
    "outputId": "c36383c8-b61c-4ab4-a883-c7f050c138c3"
   },
   "outputs": [
    {
     "name": "stdout",
     "output_type": "stream",
     "text": [
      "[[[0. 0. 0. 0. 1. 0. 0. 0. 0. 0. 0. 0. 0.]\n",
      "  [0. 0. 0. 0. 1. 0. 0. 0. 0. 0. 0. 0. 0.]\n",
      "  [0. 0. 0. 0. 1. 0. 0. 0. 0. 0. 0. 0. 0.]\n",
      "  [0. 0. 0. 0. 1. 0. 0. 0. 0. 0. 0. 0. 0.]\n",
      "  [0. 0. 0. 0. 1. 0. 0. 0. 0. 0. 0. 0. 0.]\n",
      "  [0. 0. 0. 0. 1. 0. 0. 0. 0. 0. 0. 0. 0.]\n",
      "  [0. 0. 0. 0. 1. 0. 0. 0. 0. 0. 0. 0. 0.]\n",
      "  [0. 0. 0. 0. 1. 0. 0. 0. 0. 0. 0. 0. 0.]\n",
      "  [0. 0. 0. 0. 1. 0. 0. 0. 0. 0. 0. 0. 0.]\n",
      "  [0. 0. 0. 0. 1. 0. 0. 0. 0. 0. 0. 0. 0.]\n",
      "  [0. 0. 0. 0. 1. 0. 0. 0. 0. 0. 0. 0. 0.]\n",
      "  [0. 0. 0. 0. 1. 0. 0. 0. 0. 0. 0. 0. 0.]\n",
      "  [0. 0. 0. 0. 1. 0. 0. 0. 0. 0. 0. 0. 0.]\n",
      "  [0. 0. 0. 0. 1. 0. 0. 0. 0. 0. 0. 0. 0.]\n",
      "  [0. 0. 0. 0. 1. 0. 0. 0. 0. 0. 0. 0. 0.]\n",
      "  [0. 0. 0. 0. 1. 0. 0. 0. 0. 0. 0. 0. 0.]\n",
      "  [0. 0. 0. 0. 1. 0. 0. 0. 0. 0. 0. 0. 0.]\n",
      "  [0. 0. 0. 0. 1. 0. 0. 0. 0. 0. 0. 0. 0.]\n",
      "  [0. 0. 0. 0. 1. 0. 0. 0. 0. 0. 0. 0. 0.]\n",
      "  [0. 0. 0. 0. 1. 0. 0. 0. 0. 0. 0. 0. 0.]\n",
      "  [0. 0. 0. 0. 1. 0. 0. 0. 0. 0. 0. 0. 0.]\n",
      "  [0. 0. 0. 0. 1. 0. 0. 0. 0. 0. 0. 0. 0.]\n",
      "  [0. 0. 0. 0. 1. 0. 0. 0. 0. 0. 0. 0. 0.]\n",
      "  [0. 0. 0. 0. 1. 0. 0. 0. 0. 0. 0. 0. 0.]\n",
      "  [0. 0. 0. 0. 1. 0. 0. 0. 0. 0. 0. 0. 0.]]]\n",
      "['_RARE_', '_RARE_', '_RARE_', '_RARE_', 'points', 'and', '_RARE_', '_RARE_', '_RARE_', '_RARE_', '_RARE_', '_RARE_', '_pad_', '_pad_', '_pad_', '_pad_', '_pad_', '_pad_', '_pad_', '_pad_', '_pad_', '_pad_', '_pad_', '_pad_', '_pad_']\n",
      "['Brooklyn' 'was' '29' 'of' '32' 'from' 'the' 'free' 'throw' 'line' '.'\n",
      " '_STOP_' '_PAD_' '_PAD_' '_PAD_' '_PAD_' '_PAD_' '_PAD_' '_PAD_' '_PAD_'\n",
      " '_PAD_' '_PAD_' '_PAD_' '_PAD_' '_PAD_']\n"
     ]
    }
   ],
   "source": [
    "# for i in train:\n",
    "#     if i[0][5] == 1:\n",
    "#         event_to_predict = i.reshape((1, 25, 13))\n",
    "#         break\n",
    "\n",
    "event_to_predict = train[1].reshape((1, 25, 13))\n",
    "prediction = model.predict(event_to_predict)\n",
    "print(event_to_predict)\n",
    "pred_words = [np.argmax(i) for i in prediction[0]]\n",
    "\n",
    "index_word = {v: k for k, v in tokenizer_decoder.word_index.items()} \n",
    "article_pred = [index_word[i] for i in pred_words]\n",
    "print(article_pred)\n",
    "print(article_array[1])"
   ]
  },
  {
   "cell_type": "code",
   "execution_count": null,
   "metadata": {
    "colab": {},
    "colab_type": "code",
    "id": "rAIo6P6cH4tT"
   },
   "outputs": [],
   "source": []
  },
  {
   "cell_type": "code",
   "execution_count": null,
   "metadata": {
    "colab": {},
    "colab_type": "code",
    "id": "-iUuTBO5JpWn"
   },
   "outputs": [],
   "source": []
  }
 ],
 "metadata": {
  "accelerator": "GPU",
  "colab": {
   "name": "event2text.ipynb",
   "provenance": [],
   "version": "0.3.2"
  },
  "kernelspec": {
   "display_name": "Python 3",
   "language": "python",
   "name": "python3"
  },
  "language_info": {
   "codemirror_mode": {
    "name": "ipython",
    "version": 3
   },
   "file_extension": ".py",
   "mimetype": "text/x-python",
   "name": "python",
   "nbconvert_exporter": "python",
   "pygments_lexer": "ipython3",
   "version": "3.6.7"
  }
 },
 "nbformat": 4,
 "nbformat_minor": 1
}
