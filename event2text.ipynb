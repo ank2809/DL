{
 "cells": [
  {
   "cell_type": "code",
   "execution_count": 4,
   "metadata": {
    "colab": {},
    "colab_type": "code",
    "id": "Hp1OFdnR-VLG"
   },
   "outputs": [],
   "source": [
    "import numpy as np \n",
    "import pandas as pd\n",
    "from keras.preprocessing import text, sequence\n",
    "from keras.preprocessing.text import Tokenizer\n",
    "from keras.utils import to_categorical\n",
    "from keras.models import Model, Input, Sequential\n",
    "from keras.layers import LSTM, Embedding, Dense, TimeDistributed, Bidirectional, Conv1D, GRU\n",
    "from sklearn.model_selection import train_test_split, StratifiedKFold\n",
    "from keras.metrics import categorical_accuracy\n",
    "from keras.regularizers import l1_l2, l2\n",
    "from keras import backend as K\n",
    "import tensorflow as tf"
   ]
  },
  {
   "cell_type": "code",
   "execution_count": 5,
   "metadata": {
    "colab": {},
    "colab_type": "code",
    "id": "wqzkhV6u-VLL"
   },
   "outputs": [],
   "source": [
    "import csv\n",
    "import re\n",
    "import json\n",
    "import numpy as np\n",
    "\n",
    "years = list(range(2017, 2018))\n",
    "\n",
    "team_map = {'ATL' : 'Atlanta Hawks', 'BOS': 'Boston Celtics', 'BRK': 'Brooklyn Nets', \n",
    "\t\t\t'CHO': 'Charlotte Hornets', 'CHI': 'Chicago Bulls', 'CLE': 'Cleveland Cavaliers',\n",
    "\t\t\t'DET': 'Detroit Pistons', 'IND': 'Indiana Pacers', 'MIA': 'Miami Heat',\n",
    "\t\t\t'MIL': 'Milwaukee Bucks', 'NYK': 'New York Knicks', 'ORL': 'Orlando Magic',\n",
    "\t\t\t'PHI': 'Philadelphia 76ers', 'TOR': 'Toronto Raptors', 'WAS': 'Washington Wizards',\n",
    "\t\t\t'DAL': 'Dallas Mavericks', 'DEN': 'Denver Nuggets', 'GSW': 'Golden State Warriors',\n",
    "\t\t\t'HOU': 'Houston Rockets', 'LAC': 'Los Angeles Clippers', 'LAL': 'Los Angeles Lakers',\n",
    "\t\t\t'MEM': 'Memphis Grizzlies', 'MIN': 'Minnesota Timberwolves', 'NOP': 'New Orleans Pelicans',\n",
    "\t\t\t'OKC': 'Oklahoma City Thunder', 'PHO': 'Phoenix Suns', 'POR': 'Portland Trail Blazers',\n",
    "\t\t\t'SAC': 'Sacramento Kings', 'SAS': 'San Antonio Spurs', 'UTA': 'Utah Jazz',\n",
    "\t\t\t'NJN': 'New Jersey Nets', 'SEA': 'Seattle SuperSonics', 'CHA': 'Charlotte Bobcats'}\n",
    "\n",
    "stat_encoding = {'fg': 1, 'fg_pct': 2, 'fg3': 3, 'fg3_pct': 4, 'ft': 5, 'ft_pct': 6, 'pts': 7, 'orb': 8,\n",
    "                'trb': 9, 'ast': 10, 'stl': 11, 'blk': 12, 'tov': 13}"
   ]
  },
  {
   "cell_type": "code",
   "execution_count": 9,
   "metadata": {
    "colab": {},
    "colab_type": "code",
    "id": "NZSg-i89-VLO"
   },
   "outputs": [],
   "source": [
    "max_count = 10\n",
    "def get_tuples():\n",
    "    game_data = []\n",
    "    for year in years:\n",
    "        print(year)\n",
    "        filename = '{}_tuple_sentences.csv'.format(year)\n",
    "        with open(filename) as inFile:\n",
    "            csv_reader = csv.reader(inFile, delimiter=',')\n",
    "            next(csv_reader)\n",
    "            for line in csv_reader:\n",
    "                event = line[0]\n",
    "                values = re.findall(r\"'(.*?)'\", event)\n",
    "                game_data.append(values)\n",
    "\n",
    "    print(len(game_data))\n",
    "    return game_data\n",
    "\n",
    "def one_hot_int(name_num, stat_num, name_enc, stat_enc):\n",
    "    one_hot = np.zeros(len(name_enc) + len(stat_enc)+1)\n",
    "    one_hot[name_num] = 1\n",
    "    one_hot[(len(name_enc) - 1) + stat_num] = 1\n",
    "  \n",
    "    return one_hot\n",
    "\n",
    "def get_encodings(events, vocab_size):\n",
    "\n",
    "    encodings = np.zeros((len(events),len(stat_encoding)))\n",
    "    print(encodings.shape)\n",
    "    for i in range(len(events)):\n",
    "        event = events[i]\n",
    "      \n",
    "        stat = event[1]\n",
    "        if stat in stat_encoding.keys():\n",
    "            stat_encode = stat_encoding[stat]\n",
    "\n",
    "            encodings[i][stat_encode - 1] = 1\n",
    "\n",
    "\n",
    "    return encodings"
   ]
  },
  {
   "cell_type": "code",
   "execution_count": 11,
   "metadata": {
    "colab": {
     "base_uri": "https://localhost:8080/",
     "height": 85
    },
    "colab_type": "code",
    "id": "Z-mq4a0B-VLR",
    "outputId": "38eace0b-8dfe-48fa-fb5c-4e840e52bf37"
   },
   "outputs": [
    {
     "name": "stdout",
     "output_type": "stream",
     "text": [
      "2017\n",
      "21354\n",
      "(20000, 13)\n",
      "13\n",
      "10\n"
     ]
    }
   ],
   "source": [
    "num_articles = 20000\n",
    "# with open('players_2017.json') as df:\n",
    "#     data = json.load(df)\n",
    "\n",
    "vocab_size = len(stat_encoding)\n",
    "\n",
    "events = get_tuples()\n",
    "encodings = get_encodings(events[:num_articles], vocab_size)\n",
    "print(vocab_size)\n",
    "print(max_count)\n"
   ]
  },
  {
   "cell_type": "code",
   "execution_count": 13,
   "metadata": {
    "colab": {},
    "colab_type": "code",
    "id": "HolmJ2Sv-VLX"
   },
   "outputs": [
    {
     "name": "stdout",
     "output_type": "stream",
     "text": [
      "[0. 0. 0. 0. 0. 0. 1. 0. 0. 0. 0. 0. 0.] ['Irving,Kyrie', 'pts', '22']\n"
     ]
    }
   ],
   "source": [
    "print(encodings[0], events[0])"
   ]
  },
  {
   "cell_type": "code",
   "execution_count": 14,
   "metadata": {
    "colab": {},
    "colab_type": "code",
    "id": "CTLMB2uq-VLc"
   },
   "outputs": [],
   "source": [
    "def str_to_tup(string):\n",
    "\tgame_data = []\n",
    "\ttokens = string.split(')')[:-1]\n",
    "\tfor token in tokens:\n",
    "\t\tvalues = re.findall(r\"'(.*?)'\", token)\n",
    "\t\tgame_data.append(values)\n",
    "\n",
    "\treturn game_data\n",
    "\n",
    "train_event_sentences = pd.read_csv('2017_tuple_sentences.csv')\n",
    "train_articles = []\n",
    "train_events = []\n",
    "train_event_sentences_sample = train_event_sentences[:num_articles]\n",
    "for index, row in train_event_sentences_sample.iterrows():\n",
    "    train_events.append(str_to_tup(row['event']))\n",
    "    train_articles.append(row['sentence'])\n",
    "\n",
    "    "
   ]
  },
  {
   "cell_type": "code",
   "execution_count": 17,
   "metadata": {
    "colab": {
     "base_uri": "https://localhost:8080/",
     "height": 54
    },
    "colab_type": "code",
    "id": "X0n4BryV-VLf",
    "outputId": "dfac191c-1436-4e60-92b4-bfa221b7b7dd"
   },
   "outputs": [
    {
     "name": "stdout",
     "output_type": "stream",
     "text": [
      "['NEW', 'GUYS', 'In', 'his', 'Cleveland', 'debut', ',', 'Dwyane', 'Wade', 'scored', 'eight', 'points', 'on', '3', 'of', '10', 'shooting', 'in', '28', 'minutes', '.', '_STOP_', '_PAD_', '_PAD_', '_PAD_']\n"
     ]
    }
   ],
   "source": [
    "import re\n",
    "article_size = 25\n",
    "tokenized_articles = [] \n",
    "for article in train_articles:\n",
    "    article = article.replace(',', ' ,').replace('.', ' . ')\n",
    "    tokens = article.split(' ')\n",
    "    i = 0\n",
    "    while i<len(tokens):\n",
    "        if len(tokens[i]) == 0:\n",
    "            del tokens[i]\n",
    "        else:\n",
    "            i += 1\n",
    "    end_point = min(article_size - 1, len(tokens))\n",
    "    curr_article = []\n",
    "    for i in range(end_point):\n",
    "        curr_article.append(tokens[i])\n",
    "    curr_article.append('_STOP_')\n",
    "    for i in range(end_point + 1, article_size):\n",
    "        curr_article.append('_PAD_')\n",
    "    tokenized_articles.append(curr_article)\n",
    "print(tokenized_articles[5])"
   ]
  },
  {
   "cell_type": "code",
   "execution_count": 18,
   "metadata": {
    "colab": {
     "base_uri": "https://localhost:8080/",
     "height": 34
    },
    "colab_type": "code",
    "id": "36jBiDN5-VLj",
    "outputId": "14b3754e-1186-40f9-fa61-cfa4b0ee1dbf"
   },
   "outputs": [
    {
     "name": "stdout",
     "output_type": "stream",
     "text": [
      "(20000, 25, 5214)\n"
     ]
    }
   ],
   "source": [
    "tokenizer_decoder = Tokenizer(char_level = False, filters= '', num_words=5000, oov_token='_RARE_')\n",
    "tokenizer_decoder.fit_on_texts(tokenized_articles)\n",
    "num_words = len(tokenizer_decoder.word_index) + 1\n",
    "y = tokenizer_decoder.texts_to_sequences(tokenized_articles)\n",
    "y_final = np.zeros((len(y), article_size, num_words))\n",
    "print(y_final.shape)\n",
    "for i in range(len(y)):\n",
    "\n",
    "    for j in range(len(y[i])):\n",
    "        \n",
    "        y_final[i][j][y[i][j]] = 1.0\n"
   ]
  },
  {
   "cell_type": "code",
   "execution_count": 19,
   "metadata": {
    "colab": {
     "base_uri": "https://localhost:8080/",
     "height": 34
    },
    "colab_type": "code",
    "id": "i6p1R2Rc-VLo",
    "outputId": "f47924e5-e59d-4c64-8460-0c39f396fc8b"
   },
   "outputs": [
    {
     "data": {
      "text/plain": [
       "(20000, 13)"
      ]
     },
     "execution_count": 19,
     "metadata": {},
     "output_type": "execute_result"
    }
   ],
   "source": [
    "X = np.asarray(encodings)\n",
    "X.shape"
   ]
  },
  {
   "cell_type": "code",
   "execution_count": 10,
   "metadata": {
    "colab": {
     "base_uri": "https://localhost:8080/",
     "height": 34
    },
    "colab_type": "code",
    "id": "wWEg6ba5-VLs",
    "outputId": "151f0c0c-4bbf-412a-ed57-1aeacce059e0"
   },
   "outputs": [
    {
     "name": "stdout",
     "output_type": "stream",
     "text": [
      "(1000, 100, 5770)\n"
     ]
    }
   ],
   "source": [
    "X = np.asarray(encodings)\n",
    "X_final = np.zeros((num_articles, article_size, vocab_size * max_count))\n",
    "print(X_final.shape)\n",
    "for i in range(num_articles):\n",
    "    for j in range(article_size):\n",
    "        X_final[i][j] = X[i]\n"
   ]
  },
  {
   "cell_type": "code",
   "execution_count": 0,
   "metadata": {
    "colab": {},
    "colab_type": "code",
    "id": "oeOF0zXL-VLx",
    "outputId": "52d892b9-debd-4311-d342-48efa376c5c9"
   },
   "outputs": [
    {
     "data": {
      "text/plain": [
       "array([ True,  True,  True, ...,  True,  True,  True])"
      ]
     },
     "execution_count": 72,
     "metadata": {
      "tags": []
     },
     "output_type": "execute_result"
    }
   ],
   "source": [
    "X[0] == X_final[0][5]"
   ]
  },
  {
   "cell_type": "code",
   "execution_count": 11,
   "metadata": {
    "colab": {
     "base_uri": "https://localhost:8080/",
     "height": 238
    },
    "colab_type": "code",
    "id": "YpRlvbLn-VL1",
    "outputId": "4e89d42a-e94c-4704-bbe5-3bbf403d02bb"
   },
   "outputs": [
    {
     "name": "stdout",
     "output_type": "stream",
     "text": [
      "_________________________________________________________________\n",
      "Layer (type)                 Output Shape              Param #   \n",
      "=================================================================\n",
      "lstm_1 (LSTM)                (None, 100, 500)          12542000  \n",
      "_________________________________________________________________\n",
      "lstm_2 (LSTM)                (None, 100, 500)          2002000   \n",
      "_________________________________________________________________\n",
      "dense_1 (Dense)              (None, 100, 4132)         2070132   \n",
      "=================================================================\n",
      "Total params: 16,614,132\n",
      "Trainable params: 16,614,132\n",
      "Non-trainable params: 0\n",
      "_________________________________________________________________\n"
     ]
    }
   ],
   "source": [
    "model = Sequential()\n",
    "model.add(LSTM(500, input_shape=(100, 5770), return_sequences=True))\n",
    "model.add(LSTM(500, return_sequences=True))\n",
    "model.add(Dense(4132, activation=\"softmax\"))\n",
    "# Compile & run training\n",
    "# Note that `decoder_target_data` needs to be one-hot encoded,\n",
    "# rather than sequences of integers like `decoder_input_data`!\n",
    "model.summary()\n",
    "model.compile(optimizer='rmsprop', loss='categorical_crossentropy', metrics=['accuracy'])"
   ]
  },
  {
   "cell_type": "code",
   "execution_count": 13,
   "metadata": {
    "colab": {
     "base_uri": "https://localhost:8080/",
     "height": 411
    },
    "colab_type": "code",
    "id": "-KbQqBmR-VL5",
    "outputId": "09f197e9-bdb4-4e52-81d3-e85d2aaa0fcd"
   },
   "outputs": [
    {
     "name": "stdout",
     "output_type": "stream",
     "text": [
      "Train on 900 samples, validate on 100 samples\n",
      "Epoch 1/10\n",
      "900/900 [==============================] - 27s 30ms/step - loss: 6.3035 - acc: 0.0494 - val_loss: 6.0834 - val_acc: 0.0540\n",
      "Epoch 2/10\n",
      "900/900 [==============================] - 22s 25ms/step - loss: 5.9934 - acc: 0.0507 - val_loss: 6.0865 - val_acc: 0.0540\n",
      "Epoch 3/10\n",
      "900/900 [==============================] - 22s 25ms/step - loss: 5.9860 - acc: 0.0520 - val_loss: 6.0956 - val_acc: 0.0540\n",
      "Epoch 4/10\n",
      "900/900 [==============================] - 22s 25ms/step - loss: 5.9667 - acc: 0.0538 - val_loss: 6.1111 - val_acc: 0.0550\n",
      "Epoch 5/10\n",
      "900/900 [==============================] - 22s 25ms/step - loss: 5.9480 - acc: 0.0557 - val_loss: 6.1074 - val_acc: 0.0577\n",
      "Epoch 6/10\n",
      "900/900 [==============================] - 22s 25ms/step - loss: 5.9236 - acc: 0.0560 - val_loss: 6.1224 - val_acc: 0.0554\n",
      "Epoch 7/10\n",
      "900/900 [==============================] - 22s 25ms/step - loss: 5.8974 - acc: 0.0561 - val_loss: 6.1289 - val_acc: 0.0577\n",
      "Epoch 8/10\n",
      "900/900 [==============================] - 22s 25ms/step - loss: 5.8711 - acc: 0.0553 - val_loss: 6.1377 - val_acc: 0.0582\n",
      "Epoch 9/10\n",
      "900/900 [==============================] - 22s 25ms/step - loss: 5.8377 - acc: 0.0568 - val_loss: 6.1612 - val_acc: 0.0475\n",
      "Epoch 10/10\n",
      "900/900 [==============================] - 22s 25ms/step - loss: 5.8041 - acc: 0.0556 - val_loss: 6.1752 - val_acc: 0.0585\n"
     ]
    },
    {
     "data": {
      "text/plain": [
       "<keras.callbacks.History at 0x7f9b97956470>"
      ]
     },
     "execution_count": 13,
     "metadata": {
      "tags": []
     },
     "output_type": "execute_result"
    }
   ],
   "source": [
    "model.fit(X_final, y_final,\n",
    "          batch_size=50,\n",
    "          epochs=10,\n",
    "          validation_split=0.1)"
   ]
  },
  {
   "cell_type": "code",
   "execution_count": 22,
   "metadata": {
    "colab": {
     "base_uri": "https://localhost:8080/",
     "height": 54
    },
    "colab_type": "code",
    "id": "a4j3HPoF-VMD",
    "outputId": "c36383c8-b61c-4ab4-a883-c7f050c138c3"
   },
   "outputs": [
    {
     "name": "stdout",
     "output_type": "stream",
     "text": [
      "['the', 'had', 'scored', 'points', 'points', 'points', 'points', 'points', 'and', 'and', 'and', 'the', 'the', 'the', 'the', 'the', 'the', 'the', 'the', 'the', 'the', 'the', 'the', 'the', 'the', 'the', 'the', 'the', 'the', 'the', 'the', 'the', 'the', 'the', 'the', 'the', 'the', 'the', 'the', 'the', 'the', 'the', 'the', 'the', 'the', 'the', 'the', 'the', 'the', 'the', 'the', 'the', 'the', 'the', 'the', 'the', 'the', 'the', 'the', 'the', 'the', 'the', 'the', 'the', 'the', 'the', 'the', 'the', 'the', 'the', 'the', 'the', 'the', 'the', 'the', 'the', 'the', 'the', 'the', 'the', 'the', 'the', 'the', 'the', 'the', 'the', 'the', 'the', 'the', 'the', 'the', 'the', 'the', 'the', 'the', 'the', 'the', 'the', 'the', 'the']\n"
     ]
    }
   ],
   "source": [
    "prediction = model.predict(X_final[1].reshape((1, 100, 5770)))\n",
    "pred_words = [np.argmax(i) for i in prediction[0]]\n",
    "\n",
    "index_word = {v: k for k, v in tokenizer_decoder.word_index.items()} \n",
    "article_pred = [index_word[i] for i in pred_words]\n",
    "print(article_pred)"
   ]
  },
  {
   "cell_type": "code",
   "execution_count": 0,
   "metadata": {
    "colab": {},
    "colab_type": "code",
    "id": "rAIo6P6cH4tT"
   },
   "outputs": [],
   "source": []
  },
  {
   "cell_type": "code",
   "execution_count": 0,
   "metadata": {
    "colab": {},
    "colab_type": "code",
    "id": "-iUuTBO5JpWn"
   },
   "outputs": [],
   "source": []
  }
 ],
 "metadata": {
  "accelerator": "GPU",
  "colab": {
   "name": "event2text.ipynb",
   "provenance": [],
   "version": "0.3.2"
  },
  "kernelspec": {
   "display_name": "Python 3",
   "language": "python",
   "name": "python3"
  },
  "language_info": {
   "codemirror_mode": {
    "name": "ipython",
    "version": 3
   },
   "file_extension": ".py",
   "mimetype": "text/x-python",
   "name": "python",
   "nbconvert_exporter": "python",
   "pygments_lexer": "ipython3",
   "version": "3.6.5"
  }
 },
 "nbformat": 4,
 "nbformat_minor": 1
}
