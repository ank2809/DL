{
 "cells": [
  {
   "cell_type": "code",
   "execution_count": 1,
   "metadata": {},
   "outputs": [
    {
     "name": "stderr",
     "output_type": "stream",
     "text": [
      "C:\\Users\\anshk\\Anaconda3\\lib\\site-packages\\h5py\\__init__.py:36: FutureWarning: Conversion of the second argument of issubdtype from `float` to `np.floating` is deprecated. In future, it will be treated as `np.float64 == np.dtype(float).type`.\n",
      "  from ._conv import register_converters as _register_converters\n",
      "Using TensorFlow backend.\n"
     ]
    }
   ],
   "source": [
    "import numpy as np \n",
    "import pandas as pd\n",
    "from keras.preprocessing import text, sequence\n",
    "from keras.preprocessing.text import Tokenizer\n",
    "from keras.utils import to_categorical\n",
    "from keras.models import Model, Input\n",
    "from keras.layers import LSTM, Embedding, Dense, TimeDistributed, Bidirectional, Conv1D, GRU\n",
    "from sklearn.model_selection import train_test_split, StratifiedKFold\n",
    "from keras.metrics import categorical_accuracy\n",
    "from keras.regularizers import l1_l2, l2\n",
    "from keras import backend as K\n",
    "import tensorflow as tf"
   ]
  },
  {
   "cell_type": "code",
   "execution_count": 37,
   "metadata": {},
   "outputs": [
    {
     "name": "stdout",
     "output_type": "stream",
     "text": [
      "__________________________________________________________________________________________________\n",
      "Layer (type)                    Output Shape         Param #     Connected to                     \n",
      "==================================================================================================\n",
      "input_13 (InputLayer)           (None, None, 25)     0                                            \n",
      "__________________________________________________________________________________________________\n",
      "input_14 (InputLayer)           (None, None, 1000)   0                                            \n",
      "__________________________________________________________________________________________________\n",
      "lstm_13 (LSTM)                  [(None, 256), (None, 288768      input_13[0][0]                   \n",
      "__________________________________________________________________________________________________\n",
      "lstm_14 (LSTM)                  [(None, None, 256),  1287168     input_14[0][0]                   \n",
      "                                                                 lstm_13[0][1]                    \n",
      "                                                                 lstm_13[0][2]                    \n",
      "__________________________________________________________________________________________________\n",
      "dense_7 (Dense)                 (None, None, 1000)   257000      lstm_14[0][0]                    \n",
      "==================================================================================================\n",
      "Total params: 1,832,936\n",
      "Trainable params: 1,832,936\n",
      "Non-trainable params: 0\n",
      "__________________________________________________________________________________________________\n"
     ]
    }
   ],
   "source": [
    "# configure\n",
    "num_encoder_tokens = 25\n",
    "num_decoder_tokens = 1000\n",
    "latent_dim = 256\n",
    "\n",
    "# Define an input sequence and process it.\n",
    "encoder_inputs = Input(shape=(None, num_encoder_tokens))\n",
    "encoder = LSTM(latent_dim, return_state=True)\n",
    "encoder_outputs, state_h, state_c = encoder(encoder_inputs)\n",
    "\n",
    "encoder_states = [state_h, state_c]\n",
    "\n",
    "decoder_inputs = Input(shape=(None, num_decoder_tokens))\n",
    "\n",
    "decoder_lstm = LSTM(latent_dim, return_sequences=True, return_state=True)\n",
    "decoder_outputs, _, _ = decoder_lstm(decoder_inputs, initial_state=encoder_states)\n",
    "decoder_dense = Dense(num_decoder_tokens, activation='softmax')\n",
    "decoder_outputs = decoder_dense(decoder_outputs)\n",
    "\n",
    "model = Model([encoder_inputs, decoder_inputs], decoder_outputs)\n",
    "\n",
    "model.summary()"
   ]
  },
  {
   "cell_type": "code",
   "execution_count": 25,
   "metadata": {},
   "outputs": [],
   "source": [
    "import preprocess\n",
    "\n",
    "train_event_sentences = pd.read_csv('data/2017/2017_labeled_events_sentences.csv')\n",
    "train_articles = []\n",
    "train_events = []\n",
    "for index, row in train_event_sentences.iterrows():\n",
    "    train_events.append(preprocess.str_to_tup(row['event']))\n",
    "    train_articles.append('START ' + row['sentence'])\n",
    "    "
   ]
  },
  {
   "cell_type": "code",
   "execution_count": 21,
   "metadata": {},
   "outputs": [
    {
     "name": "stdout",
     "output_type": "stream",
     "text": [
      "142\n",
      "146\n"
     ]
    }
   ],
   "source": [
    "tokenizer_decoder = Tokenizer(char_level = False, num_words=5000)\n",
    "tokenizer_decoder.fit_on_texts(train_articles)\n",
    "\n",
    "train_output_data = tokenizer_decoder.texts_to_sequences(train_articles)\n",
    "print(len(train_articles[0])\n",
    "print(len(train_output_data[0]))"
   ]
  },
  {
   "cell_type": "code",
   "execution_count": 31,
   "metadata": {},
   "outputs": [
    {
     "name": "stdout",
     "output_type": "stream",
     "text": [
      "['START Boston rookie Jayson Tatum had 14 points', 'START Boston rookie Jayson Tatum had 14 points and', 'START Boston rookie Jayson Tatum had 14 points and 10', 'START Boston rookie Jayson Tatum had 14 points and 10 rebounds', 'START Boston rookie Jayson Tatum had 14 points and 10 rebounds .', 'START Boston rookie Jayson Tatum had 14 points and 10 rebounds . Hayward']\n",
      "['START Boston rookie Jayson Tatum had 14 points and', 'START Boston rookie Jayson Tatum had 14 points and 10', 'START Boston rookie Jayson Tatum had 14 points and 10 rebounds', 'START Boston rookie Jayson Tatum had 14 points and 10 rebounds .', 'START Boston rookie Jayson Tatum had 14 points and 10 rebounds . Hayward', 'START Boston rookie Jayson Tatum had 14 points and 10 rebounds . Hayward ,']\n"
     ]
    }
   ],
   "source": [
    "import re\n",
    "article_inp = []\n",
    "article_out = []\n",
    "for article in train_articles:\n",
    "    article = article.replace(',', ' ,').replace('.', ' . ')\n",
    "    tokens = article.split(' ')\n",
    "    inp = tokens[0]\n",
    "    out =  tokens[0] + ' ' + tokens[1]\n",
    "    article_inp.append(inp)\n",
    "    article_out.append(out)\n",
    "    for i in range(1, len(tokens) - 1):\n",
    "        inp += ' ' + tokens[i]\n",
    "        out += ' ' + tokens[i + 1]\n",
    "        article_inp.append(inp)\n",
    "        article_out.append(out)\n",
    "        \n",
    "print(article_inp[7:13])\n",
    "print(article_out[7:13])"
   ]
  },
  {
   "cell_type": "code",
   "execution_count": 32,
   "metadata": {},
   "outputs": [],
   "source": [
    "tokenizer_decoder = Tokenizer(char_level = False, num_words=5000)\n",
    "tokenizer_decoder.fit_on_texts(train_articles)\n",
    "decoder_input_data = tokenizer_decoder.texts_to_sequences(article_inp)\n",
    "decoder_output_data = tokenizer_decoder.texts_to_sequences(article_out)"
   ]
  },
  {
   "cell_type": "code",
   "execution_count": 34,
   "metadata": {},
   "outputs": [
    {
     "name": "stdout",
     "output_type": "stream",
     "text": [
      "11\n",
      "11\n"
     ]
    }
   ],
   "source": [
    "print(len(decoder_input_data[10]))\n",
    "print(len(article_inp[10].split()))"
   ]
  },
  {
   "cell_type": "code",
   "execution_count": null,
   "metadata": {},
   "outputs": [],
   "source": []
  }
 ],
 "metadata": {
  "kernelspec": {
   "display_name": "Python 3",
   "language": "python",
   "name": "python3"
  },
  "language_info": {
   "codemirror_mode": {
    "name": "ipython",
    "version": 3
   },
   "file_extension": ".py",
   "mimetype": "text/x-python",
   "name": "python",
   "nbconvert_exporter": "python",
   "pygments_lexer": "ipython3",
   "version": "3.6.5"
  }
 },
 "nbformat": 4,
 "nbformat_minor": 2
}
