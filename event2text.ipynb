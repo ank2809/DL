{
 "cells": [
  {
   "cell_type": "code",
   "execution_count": 81,
   "metadata": {
    "colab": {},
    "colab_type": "code",
    "id": "Hp1OFdnR-VLG"
   },
   "outputs": [],
   "source": [
    "import numpy as np \n",
    "import pandas as pd\n",
    "from keras.preprocessing import text, sequence\n",
    "from keras.preprocessing.text import Tokenizer\n",
    "from keras.utils import to_categorical\n",
    "from keras.models import Model, Input, Sequential\n",
    "from keras.layers import LSTM, Embedding, Dense, TimeDistributed, Bidirectional, Conv1D, GRU\n",
    "from sklearn.model_selection import train_test_split, StratifiedKFold\n",
    "from keras.metrics import categorical_accuracy\n",
    "from keras.regularizers import l1_l2, l2\n",
    "from keras import backend as K\n",
    "import tensorflow as tf"
   ]
  },
  {
   "cell_type": "code",
   "execution_count": 106,
   "metadata": {
    "colab": {},
    "colab_type": "code",
    "id": "wqzkhV6u-VLL"
   },
   "outputs": [],
   "source": [
    "import csv\n",
    "import re\n",
    "import json\n",
    "import numpy as np\n",
    "\n",
    "years = list(range(2016, 2018))\n",
    "\n",
    "team_map = {'ATL' : 'Atlanta Hawks', 'BOS': 'Boston Celtics', 'BRK': 'Brooklyn Nets', \n",
    "\t\t\t'CHO': 'Charlotte Hornets', 'CHI': 'Chicago Bulls', 'CLE': 'Cleveland Cavaliers',\n",
    "\t\t\t'DET': 'Detroit Pistons', 'IND': 'Indiana Pacers', 'MIA': 'Miami Heat',\n",
    "\t\t\t'MIL': 'Milwaukee Bucks', 'NYK': 'New York Knicks', 'ORL': 'Orlando Magic',\n",
    "\t\t\t'PHI': 'Philadelphia 76ers', 'TOR': 'Toronto Raptors', 'WAS': 'Washington Wizards',\n",
    "\t\t\t'DAL': 'Dallas Mavericks', 'DEN': 'Denver Nuggets', 'GSW': 'Golden State Warriors',\n",
    "\t\t\t'HOU': 'Houston Rockets', 'LAC': 'Los Angeles Clippers', 'LAL': 'Los Angeles Lakers',\n",
    "\t\t\t'MEM': 'Memphis Grizzlies', 'MIN': 'Minnesota Timberwolves', 'NOP': 'New Orleans Pelicans',\n",
    "\t\t\t'OKC': 'Oklahoma City Thunder', 'PHO': 'Phoenix Suns', 'POR': 'Portland Trail Blazers',\n",
    "\t\t\t'SAC': 'Sacramento Kings', 'SAS': 'San Antonio Spurs', 'UTA': 'Utah Jazz',\n",
    "\t\t\t'NJN': 'New Jersey Nets', 'SEA': 'Seattle SuperSonics', 'CHA': 'Charlotte Bobcats'}\n",
    "\n",
    "stat_encoding = {'fg': 1, 'fg_pct': 2, 'fg3': 3, 'fg3_pct': 4, 'ft': 5, 'ft_pct': 6, 'pts': 7, 'orb': 8,\n",
    "                'trb': 9, 'ast': 10, 'stl': 11, 'blk': 12, 'tov': 13}"
   ]
  },
  {
   "cell_type": "code",
   "execution_count": 107,
   "metadata": {
    "colab": {},
    "colab_type": "code",
    "id": "NZSg-i89-VLO"
   },
   "outputs": [],
   "source": [
    "max_count = 10\n",
    "def get_tuples():\n",
    "    game_data = []\n",
    "    for year in years:\n",
    "        print(year)\n",
    "        filename = 'data/{}/{}_tuple_sentences.csv'.format(year, year)\n",
    "        with open(filename) as inFile:\n",
    "            csv_reader = csv.reader(inFile, delimiter=',')\n",
    "            next(csv_reader)\n",
    "            for line in csv_reader:\n",
    "                event = line[0]\n",
    "                values = re.findall(r\"'(.*?)'\", event)\n",
    "                game_data.append(values)\n",
    "\n",
    "    print(len(game_data))\n",
    "    return game_data\n",
    "\n",
    "def one_hot_int(name_num, stat_num, name_enc, stat_enc):\n",
    "    one_hot = np.zeros(len(name_enc) + len(stat_enc)+1)\n",
    "    one_hot[name_num] = 1\n",
    "    one_hot[(len(name_enc) - 1) + stat_num] = 1\n",
    "  \n",
    "    return one_hot\n",
    "\n",
    "def get_encodings(events, vocab_size):\n",
    "\n",
    "    encodings = np.zeros((len(events),len(stat_encoding)))\n",
    "    values = []\n",
    "    print(encodings.shape)\n",
    "    for i in range(len(events)):\n",
    "        event = events[i]        \n",
    "        stat = event[1]\n",
    "        if stat in stat_encoding.keys():\n",
    "            stat_encode = stat_encoding[stat]\n",
    "            values.append(stat_encode - 1)\n",
    "            encodings[i][stat_encode - 1] = 1\n",
    "\n",
    "\n",
    "    return encodings, values"
   ]
  },
  {
   "cell_type": "code",
   "execution_count": 121,
   "metadata": {
    "colab": {
     "base_uri": "https://localhost:8080/",
     "height": 85
    },
    "colab_type": "code",
    "id": "Z-mq4a0B-VLR",
    "outputId": "38eace0b-8dfe-48fa-fb5c-4e840e52bf37"
   },
   "outputs": [
    {
     "name": "stdout",
     "output_type": "stream",
     "text": [
      "2016\n",
      "2017\n",
      "42710\n",
      "(40000, 13)\n",
      "13\n",
      "10\n"
     ]
    }
   ],
   "source": [
    "num_articles = 40000\n",
    "# with open('players_2017.json') as df:\n",
    "#     data = json.load(df)\n",
    "\n",
    "vocab_size = len(stat_encoding)\n",
    "\n",
    "events = get_tuples()\n",
    "encodings, values = get_encodings(events[:num_articles], vocab_size)\n",
    "print(vocab_size)\n",
    "print(max_count)\n"
   ]
  },
  {
   "cell_type": "code",
   "execution_count": 110,
   "metadata": {
    "colab": {},
    "colab_type": "code",
    "id": "HolmJ2Sv-VLX"
   },
   "outputs": [
    {
     "name": "stdout",
     "output_type": "stream",
     "text": [
      "[0. 0. 0. 0. 0. 0. 1. 0. 0. 0. 0. 0. 0.] ['Love,Kevin', 'pts', '15']\n"
     ]
    }
   ],
   "source": [
    "print(encodings[0], events[0])"
   ]
  },
  {
   "cell_type": "code",
   "execution_count": 122,
   "metadata": {
    "colab": {},
    "colab_type": "code",
    "id": "CTLMB2uq-VLc"
   },
   "outputs": [],
   "source": [
    "def str_to_tup(string):\n",
    "\tgame_data = []\n",
    "\ttokens = string.split(')')[:-1]\n",
    "\tfor token in tokens:\n",
    "\t\tvalues = re.findall(r\"'(.*?)'\", token)\n",
    "\t\tgame_data.append(values)\n",
    "\n",
    "\treturn game_data\n",
    "\n",
    "train_events = []\n",
    "\n",
    "for year in years:\n",
    "    train_event_sentences = pd.read_csv('data/{}/{}_tuple_sentences.csv'.format(year, year))\n",
    "    train_event_sentences_sample = train_event_sentences[:num_articles]\n",
    "    for index, row in train_event_sentences_sample.iterrows():\n",
    "        train_events.append(str_to_tup(row['event']))\n",
    "        train_articles.append(row['sentence'])\n",
    "\n",
    "    "
   ]
  },
  {
   "cell_type": "code",
   "execution_count": 123,
   "metadata": {},
   "outputs": [
    {
     "name": "stdout",
     "output_type": "stream",
     "text": [
      "fg: 3899\n",
      "fg_pct: 0\n",
      "fg3: 5806\n",
      "fg3_pct: 0\n",
      "ft: 4309\n",
      "ft_pct: 0\n",
      "pts: 19251\n",
      "orb: 718\n",
      "trb: 3952\n",
      "ast: 1674\n",
      "stl: 80\n",
      "blk: 64\n",
      "tov: 247\n"
     ]
    }
   ],
   "source": [
    "counts = dict()\n",
    "for stat in stat_encoding.keys():\n",
    "    counts[stat_encoding[stat] - 1] = 0\n",
    "for value in values:\n",
    "    counts[value] += 1\n",
    "ordered = []\n",
    "for key in stat_encoding.keys():\n",
    "    print(key + ': ' + str(counts[stat_encoding[key] - 1]))\n",
    "    ordered.append(counts[stat_encoding[key] - 1])\n",
    "ordered.sort()    "
   ]
  },
  {
   "cell_type": "code",
   "execution_count": 124,
   "metadata": {},
   "outputs": [],
   "source": [
    "normalize = 1000 * len(years)\n",
    "i = 0\n",
    "while i < len(values):\n",
    "    \n",
    "    if counts[values[i]] > normalize:\n",
    "        encodings = np.delete(encodings, i, 0)\n",
    "        del train_articles[i]\n",
    "        counts[values[i]] -= 1\n",
    "        del values[i]\n",
    "    else:\n",
    "        i += 1"
   ]
  },
  {
   "cell_type": "code",
   "execution_count": 65,
   "metadata": {
    "colab": {
     "base_uri": "https://localhost:8080/",
     "height": 54
    },
    "colab_type": "code",
    "id": "X0n4BryV-VLf",
    "outputId": "dfac191c-1436-4e60-92b4-bfa221b7b7dd"
   },
   "outputs": [
    {
     "name": "stdout",
     "output_type": "stream",
     "text": [
      "['_START_', 'Love', 'had', '15', 'and', 'PLAYER_FIRST', 'PLAYER_LAST', 'STAT', 'in', 'his', 'debut', 'for', 'the', 'Cavs', ',', 'who', 'are', 'trying', 'to', 'blend', 'new', 'faces', 'and', 'big', 'egos', 'quickly', '.', '_STOP_']\n"
     ]
    }
   ],
   "source": [
    "import re\n",
    "article_size = 20\n",
    "tokenized_articles = []\n",
    "count = 0\n",
    "for article in train_articles:\n",
    "    article = article.replace(',', ' ,').replace('.', ' . ')\n",
    "    tokens = article.split(' ')\n",
    "    i = 0\n",
    "    while i<len(tokens):\n",
    "        if len(tokens[i]) == 0:\n",
    "            del tokens[i]\n",
    "        else:\n",
    "            i += 1\n",
    "#     end_point = min(article_size - 1, len(tokens))\n",
    "    curr_article = []\n",
    "    curr_article.append('_START_')\n",
    "    for i in range(len(tokens)):\n",
    "        count += 1\n",
    "        curr_article.append(tokens[i])\n",
    "    curr_article.append('_STOP_')\n",
    "    count += 2\n",
    "#     for i in range(end_point + 1, article_size):\n",
    "#         curr_article.append('_PAD_')\n",
    "    tokenized_articles.append(curr_article)\n",
    "print(tokenized_articles[5])"
   ]
  },
  {
   "cell_type": "code",
   "execution_count": 66,
   "metadata": {
    "colab": {
     "base_uri": "https://localhost:8080/",
     "height": 34
    },
    "colab_type": "code",
    "id": "36jBiDN5-VLj",
    "outputId": "14b3754e-1186-40f9-fa61-cfa4b0ee1dbf"
   },
   "outputs": [
    {
     "data": {
      "text/plain": [
       "571361"
      ]
     },
     "execution_count": 66,
     "metadata": {},
     "output_type": "execute_result"
    }
   ],
   "source": [
    "tokenizer_decoder = Tokenizer(char_level = False, filters= '', num_words=1000, oov_token='_RARE_')\n",
    "tokenizer_decoder.fit_on_texts(tokenized_articles)\n",
    "num_words = len(tokenizer_decoder.word_index) + 1\n",
    "y = tokenizer_decoder.texts_to_sequences(tokenized_articles)\n",
    "# y_final = np.zeros((len(y), article_size, num_words))\n",
    "# print(y_final.shape)\n",
    "# for i in range(len(y)):\n",
    "\n",
    "#     for j in range(len(y[i])):\n",
    "        \n",
    "#         y_final[i][j][y[i][j]] = 1.0\n",
    "count"
   ]
  },
  {
   "cell_type": "code",
   "execution_count": 67,
   "metadata": {},
   "outputs": [],
   "source": [
    "X_final = np.zeros((count, len(stat_encoding) + 3 * tokenizer_decoder.num_words))\n",
    "y_final = np.zeros((count, tokenizer_decoder.num_words))\n",
    "for i in range(len(y)):\n",
    "    curr = y[i]\n",
    "    for j in range(len(curr) - 3):\n",
    "        \n",
    "        prev2_word =  curr[j]\n",
    "        prev1_word =  curr[j + 1]\n",
    "        prev_word =  curr[j + 2]\n",
    "        curr_word = curr[j + 3]\n",
    "        X_final[i][:len(stat_encoding)] = X[i]\n",
    "        X_final[len(stat_encoding) + prev2_word] = 1\n",
    "        X_final[len(stat_encoding) + tokenizer_decoder.num_words + prev1_word] = 1\n",
    "        X_final[len(stat_encoding) + 2 * tokenizer_decoder.num_words + prev_word] = 1\n",
    "        y_final[i][curr_word] = 1\n",
    "        \n"
   ]
  },
  {
   "cell_type": "code",
   "execution_count": 68,
   "metadata": {
    "colab": {
     "base_uri": "https://localhost:8080/",
     "height": 34
    },
    "colab_type": "code",
    "id": "i6p1R2Rc-VLo",
    "outputId": "f47924e5-e59d-4c64-8460-0c39f396fc8b"
   },
   "outputs": [
    {
     "data": {
      "text/plain": [
       "(571361, 3013)"
      ]
     },
     "execution_count": 68,
     "metadata": {},
     "output_type": "execute_result"
    }
   ],
   "source": [
    "X_final.shape"
   ]
  },
  {
   "cell_type": "code",
   "execution_count": 69,
   "metadata": {},
   "outputs": [
    {
     "data": {
      "text/plain": [
       "(571361, 1000)"
      ]
     },
     "execution_count": 69,
     "metadata": {},
     "output_type": "execute_result"
    }
   ],
   "source": [
    "y_final.shape"
   ]
  },
  {
   "cell_type": "code",
   "execution_count": 11,
   "metadata": {
    "colab": {
     "base_uri": "https://localhost:8080/",
     "height": 34
    },
    "colab_type": "code",
    "id": "wWEg6ba5-VLs",
    "outputId": "151f0c0c-4bbf-412a-ed57-1aeacce059e0"
   },
   "outputs": [],
   "source": [
    "# X = np.asarray(encodings)\n",
    "# X_final = np.zeros((num_articles, article_size, vocab_size * max_count))\n",
    "# print(X_final.shape)\n",
    "# for i in range(num_articles):\n",
    "#     for j in range(article_size):\n",
    "#         X_final[i][j] = X[i]\n"
   ]
  },
  {
   "cell_type": "code",
   "execution_count": 78,
   "metadata": {
    "colab": {
     "base_uri": "https://localhost:8080/",
     "height": 238
    },
    "colab_type": "code",
    "id": "YpRlvbLn-VL1",
    "outputId": "4e89d42a-e94c-4704-bbe5-3bbf403d02bb"
   },
   "outputs": [
    {
     "name": "stdout",
     "output_type": "stream",
     "text": [
      "_________________________________________________________________\n",
      "Layer (type)                 Output Shape              Param #   \n",
      "=================================================================\n",
      "dense_23 (Dense)             (None, 1500)              4521000   \n",
      "_________________________________________________________________\n",
      "dense_24 (Dense)             (None, 1000)              1501000   \n",
      "=================================================================\n",
      "Total params: 6,022,000\n",
      "Trainable params: 6,022,000\n",
      "Non-trainable params: 0\n",
      "_________________________________________________________________\n"
     ]
    }
   ],
   "source": [
    "model = Sequential()\n",
    "model.add(Dense(1500, input_shape=(3013,), activation='relu'))\n",
    "#model.add(LSTM(1000, return_sequences=True))\n",
    "model.add(Dense(1000, activation=\"softmax\"))\n",
    "# Compile & run training\n",
    "# Note that `decoder_target_data` needs to be one-hot encoded,\n",
    "# rather than sequences of integers like `decoder_input_data`!\n",
    "model.summary()\n",
    "model.compile(optimizer='rmsprop', loss='categorical_crossentropy', metrics=['accuracy'])"
   ]
  },
  {
   "cell_type": "code",
   "execution_count": null,
   "metadata": {
    "colab": {
     "base_uri": "https://localhost:8080/",
     "height": 411
    },
    "colab_type": "code",
    "id": "-KbQqBmR-VL5",
    "outputId": "09f197e9-bdb4-4e52-81d3-e85d2aaa0fcd"
   },
   "outputs": [
    {
     "name": "stdout",
     "output_type": "stream",
     "text": [
      "Train on 514224 samples, validate on 57137 samples\n",
      "Epoch 1/10\n",
      "514224/514224 [==============================] - 721s 1ms/step - loss: 5.9194 - acc: 0.0012 - val_loss: 0.0000e+00 - val_acc: 0.0000e+00\n",
      "Epoch 2/10\n",
      "213248/514224 [===========>..................] - ETA: 4:20:49 - loss: 6.0082 - acc: 0.0011"
     ]
    }
   ],
   "source": [
    "model.fit(X_final, y_final,\n",
    "          batch_size=128,\n",
    "          epochs=10,\n",
    "          validation_split=0.1)"
   ]
  },
  {
   "cell_type": "code",
   "execution_count": null,
   "metadata": {
    "colab": {
     "base_uri": "https://localhost:8080/",
     "height": 54
    },
    "colab_type": "code",
    "id": "a4j3HPoF-VMD",
    "outputId": "c36383c8-b61c-4ab4-a883-c7f050c138c3"
   },
   "outputs": [],
   "source": [
    "prediction = model.predict(X_final[1].reshape((1, 100, 5770)))\n",
    "pred_words = [np.argmax(i) for i in prediction[0]]\n",
    "\n",
    "index_word = {v: k for k, v in tokenizer_decoder.word_index.items()} \n",
    "article_pred = [index_word[i] for i in pred_words]\n",
    "print(article_pred)"
   ]
  },
  {
   "cell_type": "code",
   "execution_count": null,
   "metadata": {
    "colab": {},
    "colab_type": "code",
    "id": "rAIo6P6cH4tT"
   },
   "outputs": [],
   "source": []
  },
  {
   "cell_type": "code",
   "execution_count": null,
   "metadata": {
    "colab": {},
    "colab_type": "code",
    "id": "-iUuTBO5JpWn"
   },
   "outputs": [],
   "source": []
  }
 ],
 "metadata": {
  "accelerator": "GPU",
  "colab": {
   "name": "event2text.ipynb",
   "provenance": [],
   "version": "0.3.2"
  },
  "kernelspec": {
   "display_name": "Python 3",
   "language": "python",
   "name": "python3"
  }
 },
 "nbformat": 4,
 "nbformat_minor": 1
}
