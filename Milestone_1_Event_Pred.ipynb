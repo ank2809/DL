{
  "nbformat": 4,
  "nbformat_minor": 0,
  "metadata": {
    "colab": {
      "name": "Milestone 1 Event Pred.ipynb",
      "version": "0.3.2",
      "provenance": [],
      "collapsed_sections": []
    },
    "kernelspec": {
      "display_name": "Python 3",
      "language": "python",
      "name": "python3"
    }
  },
  "cells": [
    {
      "metadata": {
        "id": "qr3eOqm4-CRw",
        "colab_type": "code",
        "colab": {
          "base_uri": "https://localhost:8080/",
          "height": 34
        },
        "outputId": "0447a6d1-5638-4260-e2ed-46c4042702de"
      },
      "cell_type": "code",
      "source": [
        "import tensorflow as tf\n",
        "import keras\n",
        "from keras.models import Sequential, Input, Model\n",
        "from keras.layers import Dense, Dropout, Activation, Conv2D, MaxPooling2D, Flatten, BatchNormalization, Embedding, LSTM, Bidirectional, GRU, TimeDistributed, Concatenate\n",
        "from keras.optimizers import SGD\n",
        "from keras.utils import np_utils\n",
        "#from keras.preprocessing.text import one_hot"
      ],
      "execution_count": 1,
      "outputs": [
        {
          "output_type": "stream",
          "text": [
            "Using TensorFlow backend.\n"
          ],
          "name": "stderr"
        }
      ]
    },
    {
      "metadata": {
        "id": "Q4aI08TtPGTI",
        "colab_type": "code",
        "colab": {}
      },
      "cell_type": "code",
      "source": [
        "import csv\n",
        "import re\n",
        "import json\n",
        "import numpy as np\n",
        "\n",
        "years = list(range(2014, 2018))\n",
        "\n",
        "team_map = {'ATL' : 'Atlanta Hawks', 'BOS': 'Boston Celtics', 'BRK': 'Brooklyn Nets', \n",
        "\t\t\t'CHO': 'Charlotte Hornets', 'CHI': 'Chicago Bulls', 'CLE': 'Cleveland Cavaliers',\n",
        "\t\t\t'DET': 'Detroit Pistons', 'IND': 'Indiana Pacers', 'MIA': 'Miami Heat',\n",
        "\t\t\t'MIL': 'Milwaukee Bucks', 'NYK': 'New York Knicks', 'ORL': 'Orlando Magic',\n",
        "\t\t\t'PHI': 'Philadelphia 76ers', 'TOR': 'Toronto Raptors', 'WAS': 'Washington Wizards',\n",
        "\t\t\t'DAL': 'Dallas Mavericks', 'DEN': 'Denver Nuggets', 'GSW': 'Golden State Warriors',\n",
        "\t\t\t'HOU': 'Houston Rockets', 'LAC': 'Los Angeles Clippers', 'LAL': 'Los Angeles Lakers',\n",
        "\t\t\t'MEM': 'Memphis Grizzlies', 'MIN': 'Minnesota Timberwolves', 'NOP': 'New Orleans Pelicans',\n",
        "\t\t\t'OKC': 'Oklahoma City Thunder', 'PHO': 'Phoenix Suns', 'POR': 'Portland Trail Blazers',\n",
        "\t\t\t'SAC': 'Sacramento Kings', 'SAS': 'San Antonio Spurs', 'UTA': 'Utah Jazz',\n",
        "\t\t\t'NJN': 'New Jersey Nets', 'SEA': 'Seattle SuperSonics', 'CHA': 'Charlotte Bobcats'}\n",
        "\n",
        "stat_encoding = {'fg': 1, 'fg_pct': 2, 'fg3': 3, 'fg3_pct': 4, 'ft': 5, 'ft_pct': 6, 'pts': 7, 'orb': 8,\n",
        "                'trb': 9, 'ast': 10, 'stl': 11, 'blk': 12, 'tov': 13}\n",
        "\n",
        "def get_tuples():\n",
        "  game_data = []\n",
        "  labels = []\n",
        "  for year in years:\n",
        "    print(year)\n",
        "    filename = '{}_labeled_events.csv'.format(year)\n",
        "    with open(filename) as inFile:\n",
        "      csv_reader = csv.reader(inFile, delimiter=',')\n",
        "      next(csv_reader)\n",
        "      for line in csv_reader:\n",
        "          event = line[0]\n",
        "          label = line[1]\n",
        "          values = re.findall(r\"'(.*?)'\", event)\n",
        "          name = values[0]\n",
        "          value = values[2]\n",
        "          if name not in team_map and value:\n",
        "            labels.append(label)\n",
        "            game_data.append(values)\n",
        "\n",
        "  return game_data, labels\n",
        "\n",
        "def one_hot_int(name_num, stat_num, name_enc, stat_enc):\n",
        "  one_hot = np.zeros(len(name_enc) + len(stat_enc))\n",
        "  one_hot[name_num] = 1\n",
        "  one_hot[(len(name_enc) - 1) + stat_num] = 1\n",
        "  \n",
        "  return one_hot\n",
        "\n",
        "def get_encodings(events):\n",
        "  with open('players.json') as df:\n",
        "    data = json.load(df)\n",
        "\n",
        "  one_hot_encodings = []\n",
        "  values = []\n",
        "  for event in events:\n",
        "    name = event[0]\n",
        "    stat = event[1]\n",
        "    if name in data.keys() and stat in stat_encoding.keys():\n",
        "      value = float(event[2])\n",
        "      name_encode = data[name]\n",
        "      stat_encode = stat_encoding[stat]\n",
        "\n",
        "      one_hot = one_hot_int(name_encode, stat_encode, data, stat_encoding)\n",
        "\n",
        "      one_hot_encodings.append(one_hot)\n",
        "      values.append(value)\n",
        "\n",
        "  return one_hot_encodings, values"
      ],
      "execution_count": 0,
      "outputs": []
    },
    {
      "metadata": {
        "id": "0LMIIQ73-CRy",
        "colab_type": "code",
        "colab": {}
      },
      "cell_type": "code",
      "source": [
        "def make_model(vocab_size, values):\n",
        "    inputs = Input(shape = (vocab_size,))\n",
        "    nn = Embedding(vocab_size, 200, input_length = vocab_size)(inputs)\n",
        "    nn = Flatten()(nn)\n",
        "    val_input = Input(shape=(1,))\n",
        "    nn = Concatenate()([nn, val_input])\n",
        "    nn = Dense(100, activation='relu')(nn)\n",
        "    nn = Dense(100, activation='relu')(nn)\n",
        "    y = Dense(1, activation='sigmoid')(nn)\n",
        "    model = Model(inputs=[inputs, val_input], outputs=y)\n",
        "    return model"
      ],
      "execution_count": 0,
      "outputs": []
    },
    {
      "metadata": {
        "id": "G-xnTzqe-CR1",
        "colab_type": "code",
        "colab": {
          "base_uri": "https://localhost:8080/",
          "height": 119
        },
        "outputId": "67587c2e-0940-439f-fe64-7b26b5b506b2"
      },
      "cell_type": "code",
      "source": [
        "with open('players.json') as df:\n",
        "  data = json.load(df)\n",
        "\n",
        "vocab_size = len(data) + len(stat_encoding)\n",
        "\n",
        "events, labels = get_tuples()\n",
        "one_hot_encodings, values = get_encodings(events)\n",
        "values = np.asarray(values)\n",
        "print(values.shape)\n",
        "print(vocab_size)\n",
        "model = make_model(vocab_size, values)\n",
        "model.compile(optimizer=\"sgd\", loss=\"binary_crossentropy\", metrics=['binary_accuracy'])"
      ],
      "execution_count": 4,
      "outputs": [
        {
          "output_type": "stream",
          "text": [
            "2014\n",
            "2015\n",
            "2016\n",
            "2017\n",
            "(481858,)\n",
            "1328\n"
          ],
          "name": "stdout"
        }
      ]
    },
    {
      "metadata": {
        "id": "oDcWsnnZ-CR4",
        "colab_type": "code",
        "colab": {
          "base_uri": "https://localhost:8080/",
          "height": 391
        },
        "outputId": "1ea367ed-970f-4bc2-fc96-5c75d7e117d9"
      },
      "cell_type": "code",
      "source": [
        "model.summary()"
      ],
      "execution_count": 5,
      "outputs": [
        {
          "output_type": "stream",
          "text": [
            "__________________________________________________________________________________________________\n",
            "Layer (type)                    Output Shape         Param #     Connected to                     \n",
            "==================================================================================================\n",
            "input_1 (InputLayer)            (None, 1328)         0                                            \n",
            "__________________________________________________________________________________________________\n",
            "embedding_1 (Embedding)         (None, 1328, 200)    265600      input_1[0][0]                    \n",
            "__________________________________________________________________________________________________\n",
            "flatten_1 (Flatten)             (None, 265600)       0           embedding_1[0][0]                \n",
            "__________________________________________________________________________________________________\n",
            "input_2 (InputLayer)            (None, 1)            0                                            \n",
            "__________________________________________________________________________________________________\n",
            "concatenate_1 (Concatenate)     (None, 265601)       0           flatten_1[0][0]                  \n",
            "                                                                 input_2[0][0]                    \n",
            "__________________________________________________________________________________________________\n",
            "dense_1 (Dense)                 (None, 100)          26560200    concatenate_1[0][0]              \n",
            "__________________________________________________________________________________________________\n",
            "dense_2 (Dense)                 (None, 1)            101         dense_1[0][0]                    \n",
            "==================================================================================================\n",
            "Total params: 26,825,901\n",
            "Trainable params: 26,825,901\n",
            "Non-trainable params: 0\n",
            "__________________________________________________________________________________________________\n"
          ],
          "name": "stdout"
        }
      ]
    },
    {
      "metadata": {
        "id": "Q3UQHucI-CR8",
        "colab_type": "code",
        "colab": {
          "base_uri": "https://localhost:8080/",
          "height": 102
        },
        "outputId": "f4ec59ad-f2aa-4c99-949d-456f1b2112e2"
      },
      "cell_type": "code",
      "source": [
        "one_hot_encodings = np.asarray(one_hot_encodings)\n",
        "labels = np.asarray(labels)\n",
        "labels = labels.astype(np.int8)\n",
        "print(one_hot_encodings.shape)\n",
        "print(labels.shape)\n",
        "\n",
        "print(np.sum(labels) / labels.shape[0])\n",
        "print(values[:20])"
      ],
      "execution_count": 6,
      "outputs": [
        {
          "output_type": "stream",
          "text": [
            "(481858, 1328)\n",
            "(481858,)\n",
            "0.1300715148446223\n",
            "[ 1.    29.     9.     0.     3.     0.2    5.     2.     2.     1.\n",
            "  0.333 14.    14.     2.     0.     3.     0.     8.     0.     2.   ]\n"
          ],
          "name": "stdout"
        }
      ]
    },
    {
      "metadata": {
        "id": "3k8_wPV6-SIE",
        "colab_type": "code",
        "colab": {
          "base_uri": "https://localhost:8080/",
          "height": 241
        },
        "outputId": "b735de78-9ae7-4f7b-bc9b-88d742272358"
      },
      "cell_type": "code",
      "source": [
        "model.fit([one_hot_encodings, values], labels, batch_size=150, epochs=5, verbose=1, validation_split= 1/6, shuffle=True)"
      ],
      "execution_count": 7,
      "outputs": [
        {
          "output_type": "stream",
          "text": [
            "Train on 401548 samples, validate on 80310 samples\n",
            "Epoch 1/5\n",
            "401548/401548 [==============================] - 2517s 6ms/step - loss: 0.2431 - binary_accuracy: 0.9055 - val_loss: 0.2364 - val_binary_accuracy: 0.9075\n",
            "Epoch 2/5\n",
            "401548/401548 [==============================] - 2515s 6ms/step - loss: 0.2363 - binary_accuracy: 0.9065 - val_loss: 0.2316 - val_binary_accuracy: 0.9063\n",
            "Epoch 3/5\n",
            "401548/401548 [==============================] - 2515s 6ms/step - loss: 0.2289 - binary_accuracy: 0.9062 - val_loss: 0.2247 - val_binary_accuracy: 0.9047\n",
            "Epoch 4/5\n",
            "401548/401548 [==============================] - 2524s 6ms/step - loss: 0.2211 - binary_accuracy: 0.9052 - val_loss: 0.2168 - val_binary_accuracy: 0.9046\n",
            "Epoch 5/5\n",
            "401548/401548 [==============================] - 2516s 6ms/step - loss: 0.2172 - binary_accuracy: 0.9048 - val_loss: 0.2135 - val_binary_accuracy: 0.9058\n"
          ],
          "name": "stdout"
        },
        {
          "output_type": "execute_result",
          "data": {
            "text/plain": [
              "<keras.callbacks.History at 0x7f2a0a392240>"
            ]
          },
          "metadata": {
            "tags": []
          },
          "execution_count": 7
        }
      ]
    },
    {
      "metadata": {
        "id": "i6X72mFVhdcX",
        "colab_type": "code",
        "colab": {}
      },
      "cell_type": "code",
      "source": [
        "def precision(y_true, y_pred):\n",
        "  \n",
        "  tp = 0\n",
        "  fp = 0\n",
        "  print(len(y_true))\n",
        "  for i in range(len(y_true)):\n",
        "    if y_pred[i] > 0.6:\n",
        "      y_pred[i] = 1\n",
        "    else:\n",
        "      y_pred[i] = 0\n",
        "\n",
        "    if y_pred[i] == 1:\n",
        "      \n",
        "      if y_true[i] == 1:\n",
        "        \n",
        "        tp += 1\n",
        "      \n",
        "      else:\n",
        "        \n",
        "        fp += 1\n",
        "\n",
        "  print(tp+fp)\n",
        "  return tp/(tp + fp)"
      ],
      "execution_count": 0,
      "outputs": []
    },
    {
      "metadata": {
        "id": "UwFPFC2OREpE",
        "colab_type": "code",
        "colab": {}
      },
      "cell_type": "code",
      "source": [
        "def get_predictions(y_probs, threshold=0.70):\n",
        "  for i in range(len(y_probs)):\n",
        "    if y_probs[i] > threshold:\n",
        "      y_probs[i] = 1\n",
        "    else:\n",
        "      y_probs[i] = 0\n",
        "      \n",
        "  return y_probs"
      ],
      "execution_count": 0,
      "outputs": []
    },
    {
      "metadata": {
        "id": "Vm5lf9UpMXsU",
        "colab_type": "code",
        "colab": {
          "base_uri": "https://localhost:8080/",
          "height": 68
        },
        "outputId": "5adffd9c-d106-478b-9b34-b5ee4d04db0a"
      },
      "cell_type": "code",
      "source": [
        "y_probs = model.predict([one_hot_encodings[:40000], values[:40000]])\n",
        "y_pred = get_predictions(y_probs)\n",
        "y_true = labels\n",
        "precision(y_true[:40000], y_pred)"
      ],
      "execution_count": 16,
      "outputs": [
        {
          "output_type": "stream",
          "text": [
            "40000\n",
            "2561\n"
          ],
          "name": "stdout"
        },
        {
          "output_type": "execute_result",
          "data": {
            "text/plain": [
              "0.7133932057789926"
            ]
          },
          "metadata": {
            "tags": []
          },
          "execution_count": 16
        }
      ]
    },
    {
      "metadata": {
        "id": "ypMyptfC2SP_",
        "colab_type": "code",
        "colab": {}
      },
      "cell_type": "code",
      "source": [
        ""
      ],
      "execution_count": 0,
      "outputs": []
    }
  ]
}